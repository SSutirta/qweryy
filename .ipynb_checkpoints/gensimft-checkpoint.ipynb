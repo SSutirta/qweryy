{
 "cells": [
  {
   "cell_type": "code",
   "execution_count": 1,
   "metadata": {},
   "outputs": [],
   "source": [
    "import gensim\n",
    "from gensim.models.wrappers import FastText\n",
    "import time\n",
    "import os\n",
    "from tkinter import filedialog\n",
    "from tkinter import *\n",
    "import tkinter.ttk as ttk\n",
    "import tkinter.messagebox\n",
    "import re\n",
    "from collections import Counter"
   ]
  },
  {
   "cell_type": "markdown",
   "metadata": {},
   "source": [
    "<h2>Loading fastText model</h2>\n",
    "Can be downloaded at: https://fasttext.cc/docs/en/crawl-vectors.html\n",
    "<br>English model 7GB"
   ]
  },
  {
   "cell_type": "code",
   "execution_count": 2,
   "metadata": {},
   "outputs": [],
   "source": [
    "#Load fastText model\n",
    "model = FastText.load_fasttext_format(r\"C:\\Users\\AlnthraevaN\\Documents\\Skripsi\\cc.en.300.bin\")"
   ]
  },
  {
   "cell_type": "markdown",
   "metadata": {},
   "source": [
    "<h2>Spell Checking</h2>"
   ]
  },
  {
   "cell_type": "code",
   "execution_count": 5,
   "metadata": {},
   "outputs": [],
   "source": [
    "#Get all words in model\n",
    "words = list(model.wv.vocab)\n",
    "\n",
    "#Rank how often a word come out\n",
    "w_rank = {}\n",
    "for i,word in enumerate(words):\n",
    "    w_rank[word] = i\n",
    "    \n",
    "WORDS = w_rank\n",
    "\n",
    "def words(text): return re.findall(r'\\w+', text.lower())\n",
    "\n",
    "#Probability of `word`.\n",
    "def P(word, N=sum(WORDS.values())): \n",
    "    return WORDS[word] / N\n",
    "\n",
    "#Most probable spelling correction for word.\n",
    "def correction(word): \n",
    "    return max(candidates(word), key=P)\n",
    "\n",
    "#Generate possible spelling corrections for word.\n",
    "def candidates(word): \n",
    "    return (known([word]) or known(edits1(word)) or known(edits2(word)) or [word])\n",
    "\n",
    "#The subset of `words` that appear in the dictionary of WORDS.\n",
    "def known(words): \n",
    "    return set(w for w in words if w in WORDS)\n",
    "\n",
    "#All edits that are one edit away from `word`.\n",
    "def edits1(word):\n",
    "    letters    = 'abcdefghijklmnopqrstuvwxyz'\n",
    "    splits     = [(word[:i], word[i:])    for i in range(len(word) + 1)]\n",
    "    deletes    = [L + R[1:]               for L, R in splits if R]\n",
    "    transposes = [L + R[1] + R[0] + R[2:] for L, R in splits if len(R)>1]\n",
    "    replaces   = [L + c + R[1:]           for L, R in splits if R for c in letters]\n",
    "    inserts    = [L + c + R               for L, R in splits for c in letters]\n",
    "    return set(deletes + transposes + replaces + inserts)\n",
    "\n",
    "#All edits that are two edits away from `word`.\n",
    "def edits2(word): \n",
    "    return (e2 for e1 in edits1(word) for e2 in edits1(e1))\n"
   ]
  },
  {
   "cell_type": "code",
   "execution_count": 10,
   "metadata": {},
   "outputs": [],
   "source": [
    "#Handling browse button to work\n",
    "def browse_button():\n",
    "    directory = filedialog.askdirectory()\n",
    "    path.set(directory)\n",
    "    \n",
    "    #Delete the content of text box if a directory is selected, then insert the directory.\n",
    "    tb2.delete(\"1.0\", \"end-1c\")\n",
    "    tb2.insert(0.0, str(directory))\n",
    "\n",
    "#Get input\n",
    "def retrieve_input():\n",
    "    input = tb1.get(\"1.0\",\"end-1c\")\n",
    "    return input\n",
    "\n",
    "#Get directory\n",
    "def retrieve_directory():\n",
    "    directory = tb2.get(\"1.0\", \"end-1c\")\n",
    "    return directory\n",
    "\n",
    "#Open folder of selected file\n",
    "def open_folder(directory):\n",
    "    if(directory is \"\"):\n",
    "        tkinter.messagebox.showerror(title=\"Please select a file\", message=\"Please select a file\")\n",
    "    else:\n",
    "        os.startfile(directory)\n",
    "\n",
    "#Pop-up a result window\n",
    "def resultwindow(fn):\n",
    "    #Get directory on selected item\n",
    "    def on_tree_select(event):\n",
    "        for item in tree.selection():\n",
    "            global item_text\n",
    "            item_text = tree.item(item)['values'][0]\n",
    "\n",
    "    #GUI of Result Window\n",
    "    resultwindow = Toplevel(root)\n",
    "    resultwindow.geometry(\"1000x350\")\n",
    "    resultwindow.title(\"QWERY\")\n",
    "    resultwindow.resizable(width=True, height=False)\n",
    "    \n",
    "    appname = Label(resultwindow, text=\"QWERY Search Engine\")\n",
    "    appname.pack(padx=(20,20), pady=(10,20))\n",
    "    \n",
    "    ListFrame = Frame(resultwindow)\n",
    "    ListFrame.pack(fill=X, padx=(50, 50))\n",
    "    \n",
    "    vsb = ttk.Scrollbar(ListFrame, orient=\"vertical\")\n",
    "\n",
    "    tree = ttk.Treeview(ListFrame, column=(\"Directory\", \"Keyword\"), yscrollcommand=vsb.set)\n",
    "    \n",
    "    vsb.config(command=tree.yview)\n",
    "    vsb.pack(side=RIGHT, fill=Y)\n",
    "    \n",
    "    tree.pack(fill=X)\n",
    "    tree.bind(\"<<TreeviewSelect>>\", on_tree_select)\n",
    "    \n",
    "    ofbtn = Button(resultwindow, text=\"Open Folder\", command= lambda: open_folder(item_text))\n",
    "    ofbtn.pack(anchor=SE, padx=(0, 50), pady=(20,20))\n",
    "    \n",
    "    tree.heading(\"#0\", text=\"File Name\")\n",
    "    tree.heading(\"#1\", text=\"Directory\")\n",
    "    tree.heading(\"#2\", text=\"Keyword\")\n",
    "    \n",
    "    #Insert result to treeview\n",
    "    for i in fn:\n",
    "        tree.insert(\"\", \"end\", text=i[0], values=(i[1], i[2]))\n",
    "    \n",
    "def search(path):\n",
    "    #Error Check if directory is right\n",
    "    if(os.path.exists(path)):\n",
    "        word = str(retrieve_input())\n",
    "        #Error Check if keyword is null\n",
    "        if(word is \"\"):\n",
    "            tkinter.messagebox.showerror(title=\"Please Enter Keyword\", message=\"Please Enter Keyword\")\n",
    "        else:\n",
    "            kw = [] #Array of keyword(s) to search\n",
    "            kw.append(str.lower(word))\n",
    "            keyword = model.most_similar(positive=[word], topn=100)\n",
    "            #Spell checking if the first NN has score lower than 0.70 (Probability a typo on input)\n",
    "            if(keyword[0][1] < 0.70):\n",
    "                if(word not in str.lower(correction(word))):\n",
    "                    word = str.lower(correction(word))\n",
    "                    kw.append(word)\n",
    "                    keyword = model.most_similar(positive=[word], topn=100)\n",
    "            kwused = []\n",
    "            result = []\n",
    "            #Lists of file found with keyword\n",
    "            for i in keyword:\n",
    "                if(i[1] >= 0.70):\n",
    "                    FLAG = TRUE\n",
    "                    #Checking if NN is in kw array\n",
    "                    for l in kw:\n",
    "                        if(l in str.lower(i[0])):\n",
    "                            FLAG = FALSE\n",
    "                    if(FLAG and str.lower(i[0]) not in kw):\n",
    "                        kw.append(str.lower(i[0]))\n",
    "            for root, dirs, files in os.walk(path):\n",
    "                #Searching files with keyword array\n",
    "                for j in files:\n",
    "                    for k in kw:\n",
    "                        if str.lower(k) in str.lower(os.path.splitext(j)[0]):\n",
    "                            result.append([j, root, k])\n",
    "                            kwused.append(str.lower(k))\n",
    "            #Go to Result Window with file found\n",
    "            if result:\n",
    "                resultwindow(result)\n",
    "            else:\n",
    "                 tkinter.messagebox.showerror(title=\"No File Found\", message=\"No File Found\")\n",
    "    else:\n",
    "        tkinter.messagebox.showerror(title=\"Directory Not Found\", message=\"Please enter the right directory\")"
   ]
  },
  {
   "cell_type": "markdown",
   "metadata": {},
   "source": [
    "<h2>Main Window</h2>"
   ]
  },
  {
   "cell_type": "code",
   "execution_count": 11,
   "metadata": {},
   "outputs": [
    {
     "name": "stdout",
     "output_type": "stream",
     "text": [
      "C:/Users/AlnthraevaN/Documents/Skripsi\n",
      "C:/Users/AlnthraevaN/Documents/Skripsi\\Documents\n",
      "C:/Users/AlnthraevaN/Documents/Skripsi\\qwery\\venv\\Lib\\site-packages\\numpy\\core\\tests\n"
     ]
    }
   ],
   "source": [
    "#Main window\n",
    "root = Tk()\n",
    "path = StringVar()\n",
    "\n",
    "root.geometry(\"350x200\")\n",
    "root.title(\"QWERY\")\n",
    "root.resizable(width=False, height=False)\n",
    "appname = Label(root, text=\"QWERY Search Engine\")\n",
    "appname.grid(row=0, columnspan=4, padx=(20,20), pady=(10,20))\n",
    "lbl1 = Label(root, text=\"Keyword: \")\n",
    "lbl1.grid(row=2, column=0, padx=(20,0))\n",
    "tb1 = Text(master=root, height=1, width=30, wrap=\"none\")\n",
    "tb1.grid(row=2, column=1, columnspan=2, padx=(0,20))\n",
    "tb2 = Text(master=root, height=1, width=30) #, textvariable=path\n",
    "tb2.grid(row=3, column=0, columnspan=2, pady=(10,0), padx=(22,0))\n",
    "button2 = Button(master= root, text=\"Browse\", command=browse_button)\n",
    "button2.grid(row=3, column=2, padx=(8, 20), pady=(10,0))\n",
    "button1 = Button(master=root, text=\"Search\", width=30, command= lambda: search(retrieve_directory()))\n",
    "button1.grid(row=4, columnspan=4, pady=(10,0))\n",
    "\n",
    "root.mainloop()"
   ]
  },
  {
   "cell_type": "markdown",
   "metadata": {},
   "source": [
    "============================================================================================================================\n",
    "<h2>Get Nearest Neighbor with r>=.70</h2>"
   ]
  },
  {
   "cell_type": "code",
   "execution_count": 107,
   "metadata": {},
   "outputs": [
    {
     "name": "stdout",
     "output_type": "stream",
     "text": [
      "enchanting\n",
      "['enchanting', 'captivating', 'bewitching', 'enchanted', 'mesmerizing', 'entrancing', 'beguiling', 'spellbinding']\n"
     ]
    }
   ],
   "source": [
    "kw = []\n",
    "inp = input()\n",
    "kw.append(str.lower(inp))\n",
    "keyword = model.most_similar(positive=inp, topn=100)\n",
    "if(keyword[0][1] < 0.70):\n",
    "    if(word not in str.lower(correction(word))):\n",
    "        word = str.lower(correction(word))\n",
    "        kw.append(word)\n",
    "        keyword = model.most_similar(positive=[word], topn=100)\n",
    "for i in keyword:\n",
    "    if(i[1] >= 0.70):\n",
    "        FLAG = TRUE\n",
    "        #Checking if NN is in kw array\n",
    "        for l in kw:\n",
    "            if(l in str.lower(i[0])):\n",
    "                FLAG = FALSE\n",
    "        if(FLAG and str.lower(i[0]) not in kw):\n",
    "            kw.append(str.lower(i[0]))\n",
    "            \n",
    "print(kw)"
   ]
  },
  {
   "cell_type": "markdown",
   "metadata": {},
   "source": [
    "<h2>Spell Correction</h2>"
   ]
  },
  {
   "cell_type": "code",
   "execution_count": 21,
   "metadata": {
    "scrolled": true
   },
   "outputs": [
    {
     "name": "stdout",
     "output_type": "stream",
     "text": [
      "a\n"
     ]
    },
    {
     "data": {
      "text/plain": [
       "'a'"
      ]
     },
     "execution_count": 21,
     "metadata": {},
     "output_type": "execute_result"
    }
   ],
   "source": [
    "word = input()\n",
    "correction(word)"
   ]
  },
  {
   "cell_type": "markdown",
   "metadata": {},
   "source": [
    "<h2>Get NN without r filter</h2>"
   ]
  },
  {
   "cell_type": "code",
   "execution_count": 10,
   "metadata": {},
   "outputs": [
    {
     "name": "stdout",
     "output_type": "stream",
     "text": [
      "toad\n",
      "[('toads', 0.7958064079284668), ('frog', 0.7158021926879883), ('frogs', 0.6161932945251465), ('tadpole', 0.6049193739891052), ('lizard', 0.6041593551635742), ('snake', 0.6034387350082397), ('salamander', 0.5977938771247864), ('newt', 0.592800498008728), ('amphibian', 0.5887988209724426), ('natterjack', 0.5757580399513245), ('fire-bellied', 0.5709872245788574), ('Toad', 0.5703564882278442), ('frog.', 0.5573420524597168), ('salamanders', 0.5526248812675476), ('rattlesnake', 0.5487629771232605), ('froglet', 0.5486338138580322), ('turtle', 0.547600269317627), ('crapaud', 0.5398873686790466), ('scorpion', 0.5392746329307556), ('eel', 0.5359582901000977), ('newts', 0.5335949659347534), ('toad-like', 0.5284917950630188), ('possum', 0.5270686745643616), ('iguana', 0.5269594192504883), ('blacksnake', 0.5254340171813965), ('opossum', 0.5254267454147339), ('froggie', 0.5250702500343323), ('Spadefoot', 0.5250141024589539), ('spadefoot', 0.5250086188316345), ('skink', 0.5246688723564148), ('frog-like', 0.5245205163955688), ('blue-tongue', 0.5222020149230957), ('lizards', 0.519318699836731), ('tadpoles', 0.5171836614608765), ('earthworm', 0.5169914960861206), ('shrew', 0.5154505968093872), ('reptile', 0.5143628120422363), ('treefrog', 0.5136762857437134), ('armadillo', 0.5111637115478516), ('amphibians', 0.5104784965515137), ('snakes', 0.5104438066482544), ('gopher', 0.5090951919555664), ('lizzard', 0.5080884695053101), ('ant-eater', 0.5075851678848267), ('tarantula', 0.5061814188957214), ('pigmy', 0.505681037902832), ('froggy', 0.5037830471992493), ('gartersnake', 0.5009843111038208), ('millipede', 0.5009214878082275), ('beetle', 0.5008066296577454), ('snake-', 0.5003863573074341), ('Toads', 0.5001649260520935), ('Bufo', 0.4994458556175232), ('pygmy', 0.4989241063594818), ('bullsnake', 0.49824953079223633), ('grasshopper', 0.49706995487213135), ('redbelly', 0.4960458278656006), ('warty', 0.4952942430973053), ('rabbit', 0.4949011504650116), ('frog-shaped', 0.4941767454147339), ('centipede', 0.4931958019733429), ('spider', 0.49309074878692627), ('alligator', 0.4927551746368408), ('cockroach', 0.49145999550819397), ('watersnakes', 0.4895341992378235), ('white-lipped', 0.48919957876205444), ('watersnake', 0.48892736434936523), ('polliwog', 0.48750054836273193), ('copperhead', 0.4866054654121399), ('toadlets', 0.48647359013557434), ('blue-tongued', 0.4861730635166168), ('snail-eating', 0.4861551523208618), ('cottonmouth', 0.4857473373413086), ('goblin', 0.485462486743927), ('porcupine', 0.4853939116001129), ('bullfrogs', 0.48513683676719666), ('horned', 0.4841187596321106), ('swamp', 0.4828858971595764), ('monkey-faced', 0.4828295409679413), ('mongoose', 0.4821435213088989), ('anteater', 0.4806130528450012), ('toadstool', 0.4805515706539154), ('Alytes', 0.48015162348747253), ('buzzard', 0.48010024428367615), ('cat-fish', 0.47983264923095703), ('skunk', 0.4789912700653076), ('chipmunk', 0.4785810708999634), ('rhinocerous', 0.47857218980789185), ('rat', 0.47837042808532715), ('red-spotted', 0.4765518009662628), ('rodent', 0.4760281443595886), ('crocodile', 0.47564107179641724), ('rattler', 0.4755058288574219), ('ratsnake', 0.4753074049949646), ('bufo', 0.47485288977622986), ('froglets', 0.474766343832016), ('crayfish', 0.4744693636894226), ('oppossum', 0.4727586507797241), ('baboon', 0.472248911857605), ('narrow-mouthed', 0.4721008539199829)]\n"
     ]
    }
   ],
   "source": [
    "inp = input()\n",
    "keyword = model.most_similar(positive=inp, topn=100)\n",
    "print(keyword)"
   ]
  },
  {
   "cell_type": "code",
   "execution_count": null,
   "metadata": {},
   "outputs": [],
   "source": []
  }
 ],
 "metadata": {
  "kernelspec": {
   "display_name": "Python 3",
   "language": "python",
   "name": "python3"
  },
  "language_info": {
   "codemirror_mode": {
    "name": "ipython",
    "version": 3
   },
   "file_extension": ".py",
   "mimetype": "text/x-python",
   "name": "python",
   "nbconvert_exporter": "python",
   "pygments_lexer": "ipython3",
   "version": "3.7.5"
  }
 },
 "nbformat": 4,
 "nbformat_minor": 2
}
