{
 "cells": [
  {
   "cell_type": "code",
   "execution_count": 2,
   "metadata": {},
   "outputs": [],
   "source": [
    "import fasttext\n",
    "import time"
   ]
  },
  {
   "cell_type": "markdown",
   "metadata": {},
   "source": [
    "<h2>Loading Model of english dictionary</h2>\n",
    "New Laptop = ±30s"
   ]
  },
  {
   "cell_type": "code",
   "execution_count": 3,
   "metadata": {},
   "outputs": [
    {
     "name": "stdout",
     "output_type": "stream",
     "text": [
      "Model loaded in 28.232238292694092s\n"
     ]
    },
    {
     "name": "stderr",
     "output_type": "stream",
     "text": [
      "\n"
     ]
    }
   ],
   "source": [
    "start = time.time()\n",
    "model = fasttext.load_model(r\"C:\\Users\\vsutirta\\Documents\\Skripsi\\cc.en.300.bin\")\n",
    "print(f\"Model loaded in {time.time()-start}s\")"
   ]
  },
  {
   "cell_type": "markdown",
   "metadata": {},
   "source": [
    "<h2>Get value</h2>\n",
    "New laptop = first time &lt;2m, then &lt;1s"
   ]
  },
  {
   "cell_type": "code",
   "execution_count": 5,
   "metadata": {},
   "outputs": [
    {
     "name": "stdout",
     "output_type": "stream",
     "text": [
      "done in 173.91140580177307s\n",
      "[(0.7165582180023193, 'signs'), (0.6446087956428528, 'signing'), (0.6417466402053833, 'sign-')]\n"
     ]
    }
   ],
   "source": [
    "start = time.time()\n",
    "var = model.get_nearest_neighbors(\"sign\", 3)\n",
    "print(f\"NN in {time.time()-start}s\")\n",
    "print(var)"
   ]
  },
  {
   "cell_type": "markdown",
   "metadata": {},
   "source": [
    "<h2>var[data_ke-][0=range, 1=word]</h2>"
   ]
  },
  {
   "cell_type": "code",
   "execution_count": null,
   "metadata": {},
   "outputs": [],
   "source": [
    "var[0]"
   ]
  },
  {
   "cell_type": "markdown",
   "metadata": {},
   "source": [
    "<h2>NN with range defined</h2>"
   ]
  },
  {
   "cell_type": "code",
   "execution_count": 6,
   "metadata": {
    "scrolled": true
   },
   "outputs": [
    {
     "name": "stdout",
     "output_type": "stream",
     "text": [
      "(0.8259586691856384, 'cunt')\n",
      "(0.7744406461715698, 'pussy-')\n",
      "(0.7639479041099548, 'pussyhole')\n",
      "(0.7516441345214844, 'cock')\n",
      "(0.7415086627006531, 'pussy.')\n",
      "(0.7360206842422485, 'pussylips')\n",
      "(0.7318968772888184, 'dick')\n",
      "(0.7285016775131226, 'cunny')\n",
      "(0.7225916385650635, 'asspussy')\n",
      "(0.7224605679512024, 'pussies')\n",
      "(0.721649706363678, 'pusssy')\n",
      "(0.7189714908599854, 'pusst')\n",
      "(0.7149224877357483, 'clit')\n",
      "(0.713830828666687, 'twat')\n",
      "(0.7030355930328369, 'pussys')\n",
      "(0.6963137984275818, 'clit.')\n",
      "(0.6931865215301514, 'butthole')\n",
      "(0.6930205821990967, 'tits')\n",
      "(0.6911943554878235, 'wetpussy')\n",
      "(0.6898986101150513, 'pussy.She')\n",
      "(0.6852820515632629, 'pussie')\n",
      "(0.6834368109703064, 'fuckhole')\n",
      "(0.6750235557556152, 'pussey')\n",
      "(0.6729166507720947, 'clitty')\n",
      "(0.6700484156608582, 'dildo')\n",
      "(0.6690956354141235, 'cumming')\n",
      "(0.6654326319694519, 'cuntlips')\n",
      "(0.6627013683319092, 'pusyy')\n",
      "(0.6617424488067627, 'cunthole')\n",
      "(0.661130964756012, 'slut')\n",
      "(0.6588192582130432, 'pussy96')\n",
      "(0.6587439179420471, 'cummm')\n",
      "(0.6570885181427002, 'pussyeating')\n",
      "(0.6530625224113464, 'cum')\n",
      "(0.6523990035057068, 'pussi')\n",
      "(0.651103138923645, 'cockslut')\n",
      "(0.6510663628578186, 'titties')\n",
      "(0.6506608724594116, 'coochie')\n",
      "(0.6492588520050049, 'pussy0')\n",
      "(0.6471605896949768, 'finger-fucked')\n",
      "(0.646619439125061, 'fingerfuck')\n",
      "(0.6462039947509766, 'finger-fuck')\n",
      "(0.6424024105072021, 'pusse')\n",
      "(0.6419000029563904, 'pussy-lips')\n",
      "(0.6405776739120483, 'cock.I')\n",
      "(0.6395549774169922, 'cum-hole')\n",
      "(0.6394755244255066, 'coochies')\n",
      "(0.6393746733665466, 'pussu')\n",
      "(0.6389572620391846, 'pussy98')\n",
      "(0.6387624144554138, 'quim')\n"
     ]
    }
   ],
   "source": [
    "kucing = model.get_nearest_neighbors(\"pussy\", k=50)\n",
    "for i in kucing:\n",
    "    if(i[0] > 0.60):\n",
    "        print(i)"
   ]
  },
  {
   "cell_type": "markdown",
   "metadata": {},
   "source": [
    "<h2>NN with input</h2>\n",
    "input is always str"
   ]
  },
  {
   "cell_type": "code",
   "execution_count": 10,
   "metadata": {},
   "outputs": [
    {
     "name": "stdin",
     "output_type": "stream",
     "text": [
      " mist\n",
      " 10\n"
     ]
    },
    {
     "data": {
      "text/plain": [
       "[(0.7533753514289856, 'mists'),\n",
       " (0.7064653038978577, 'mist.'),\n",
       " (0.6784048676490784, 'mist-like'),\n",
       " (0.6659454107284546, 'misting'),\n",
       " (0.6576698422431946, 'fog'),\n",
       " (0.6424222588539124, 'misty'),\n",
       " (0.6316931247711182, 'fog-like'),\n",
       " (0.6205011606216431, 'clouds'),\n",
       " (0.6172025203704834, 'misted'),\n",
       " (0.5988708734512329, 'Mist')]"
      ]
     },
     "execution_count": 10,
     "metadata": {},
     "output_type": "execute_result"
    }
   ],
   "source": [
    "word = input()\n",
    "ks = input()\n",
    "model.get_nearest_neighbors(word, int(ks))"
   ]
  }
 ],
 "metadata": {
  "kernelspec": {
   "display_name": "Python 3",
   "language": "python",
   "name": "python3"
  },
  "language_info": {
   "codemirror_mode": {
    "name": "ipython",
    "version": 3
   },
   "file_extension": ".py",
   "mimetype": "text/x-python",
   "name": "python",
   "nbconvert_exporter": "python",
   "pygments_lexer": "ipython3",
   "version": "3.7.5"
  }
 },
 "nbformat": 4,
 "nbformat_minor": 4
}
