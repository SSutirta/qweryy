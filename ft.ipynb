{
 "cells": [
  {
   "cell_type": "code",
   "execution_count": 2,
   "metadata": {},
   "outputs": [],
   "source": [
    "import fasttext\n",
    "import time"
   ]
  },
  {
   "cell_type": "markdown",
   "metadata": {},
   "source": [
    "<h2>Loading Model of english dictionary</h2>\n",
    "New Laptop = ±30s"
   ]
  },
  {
   "cell_type": "code",
   "execution_count": 3,
   "metadata": {},
   "outputs": [
    {
     "name": "stdout",
     "output_type": "stream",
     "text": [
      "Model loaded in 28.232238292694092s\n"
     ]
    },
    {
     "name": "stderr",
     "output_type": "stream",
     "text": [
      "\n"
     ]
    }
   ],
   "source": [
    "start = time.time()\n",
    "model = fasttext.load_model(r\"C:\\Users\\vsutirta\\Documents\\Skripsi\\cc.en.300.bin\")\n",
    "print(f\"Model loaded in {time.time()-start}s\")"
   ]
  },
  {
   "cell_type": "markdown",
   "metadata": {},
   "source": [
    "<h2>Get value</h2>\n",
    "New laptop = first time >2m, then &lt;1s"
   ]
  },
  {
   "cell_type": "code",
   "execution_count": 5,
   "metadata": {},
   "outputs": [
    {
     "name": "stdout",
     "output_type": "stream",
     "text": [
      "done in 173.91140580177307s\n",
      "[(0.7165582180023193, 'signs'), (0.6446087956428528, 'signing'), (0.6417466402053833, 'sign-')]\n"
     ]
    }
   ],
   "source": [
    "start = time.time()\n",
    "var = model.get_nearest_neighbors(\"sign\", 3)\n",
    "print(f\"done in {time.time()-start}s\")\n",
    "print(var)"
   ]
  },
  {
   "cell_type": "markdown",
   "metadata": {},
   "source": [
    "<h2>var[data_ke-][0=range, 1=word]</h2>"
   ]
  },
  {
   "cell_type": "code",
   "execution_count": null,
   "metadata": {},
   "outputs": [],
   "source": [
    "var[0]"
   ]
  },
  {
   "cell_type": "markdown",
   "metadata": {},
   "source": [
    "<h2>NN with range defined</h2>"
   ]
  },
  {
   "cell_type": "code",
   "execution_count": 6,
   "metadata": {
    "scrolled": true
   },
   "outputs": [
    {
     "name": "stdout",
     "output_type": "stream",
     "text": [
      "(0.8350069522857666, 'cats')\n",
      "(0.8233457207679749, 'kitty')\n",
      "(0.8083016276359558, 'kitten')\n",
      "(0.7533658742904663, 'feline')\n",
      "(0.7111546397209167, 'moggie')\n",
      "(0.7107509970664978, 'cat.It')\n",
      "(0.7078612446784973, 'dog')\n",
      "(0.7065863609313965, 'cat.The')\n",
      "(0.7062479257583618, 'cat.I')\n",
      "(0.7057439088821411, 'moggy')\n",
      "(0.7033248543739319, 'cat.She')\n",
      "(0.7000036835670471, 'kittie')\n",
      "(0.6952764391899109, 'cat.He')\n",
      "(0.6949988007545471, 'kitties')\n",
      "(0.6948094964027405, 'felines')\n",
      "(0.690684974193573, 'housecat')\n",
      "(0.68710857629776, 'cat-')\n",
      "(0.6869614720344543, 'kittens')\n",
      "(0.6846374869346619, 'cat.And')\n",
      "(0.6820011138916016, 'meow')\n",
      "(0.6775069236755371, 'non-cat')\n",
      "(0.6753259301185608, 'pet')\n",
      "(0.6749392747879028, 'house-cat')\n",
      "(0.6738527417182922, 'moggies')\n",
      "(0.6724945902824402, 'cat.We')\n",
      "(0.6650222539901733, 'cat.This')\n",
      "(0.6587260961532593, 'cat.But')\n",
      "(0.6582903861999512, 'kitteh')\n",
      "(0.654831051826477, 'Cat')\n",
      "(0.6535233855247498, 'cat.You')\n",
      "(0.6504104733467102, 'cat.A')\n",
      "(0.6499238610267639, 'tabby')\n",
      "(0.6484191417694092, 'fur-ball')\n",
      "(0.6481984853744507, 'kitty-cat')\n",
      "(0.6434451341629028, 'kittys')\n",
      "(0.6393879652023315, 'tom-cat')\n",
      "(0.6386945843696594, 'cat-person')\n",
      "(0.6317418217658997, 'cats-')\n",
      "(0.6278950572013855, 'furball')\n",
      "(0.6276317834854126, 'beagle')\n",
      "(0.6265418529510498, 'cats.')\n",
      "(0.6216720342636108, 'cat-owners')\n",
      "(0.621340811252594, 'cat-lover')\n",
      "(0.6201645731925964, 'puppy')\n",
      "(0.6185760498046875, 'feline-friendly')\n",
      "(0.617246150970459, 'kitten.')\n",
      "(0.6165106296539307, 'anti-cat')\n",
      "(0.6147419810295105, 'cat-nip')\n",
      "(0.6143970489501953, 'fluffball')\n",
      "(0.6139819025993347, 'pug')\n"
     ]
    }
   ],
   "source": [
    "kucing = model.get_nearest_neighbors(\"cat\", k=50)\n",
    "for i in kucing:\n",
    "    if(i[0] > 0.60):\n",
    "        print(i)"
   ]
  },
  {
   "cell_type": "markdown",
   "metadata": {},
   "source": [
    "<h2>NN with input</h2>\n",
    "input is always str"
   ]
  },
  {
   "cell_type": "code",
   "execution_count": 10,
   "metadata": {},
   "outputs": [
    {
     "name": "stdin",
     "output_type": "stream",
     "text": [
      " mist\n",
      " 10\n"
     ]
    },
    {
     "data": {
      "text/plain": [
       "[(0.7533753514289856, 'mists'),\n",
       " (0.7064653038978577, 'mist.'),\n",
       " (0.6784048676490784, 'mist-like'),\n",
       " (0.6659454107284546, 'misting'),\n",
       " (0.6576698422431946, 'fog'),\n",
       " (0.6424222588539124, 'misty'),\n",
       " (0.6316931247711182, 'fog-like'),\n",
       " (0.6205011606216431, 'clouds'),\n",
       " (0.6172025203704834, 'misted'),\n",
       " (0.5988708734512329, 'Mist')]"
      ]
     },
     "execution_count": 10,
     "metadata": {},
     "output_type": "execute_result"
    }
   ],
   "source": [
    "word = input()\n",
    "ks = input()\n",
    "model.get_nearest_neighbors(word, int(ks))"
   ]
  }
 ],
 "metadata": {
  "kernelspec": {
   "display_name": "Python 3",
   "language": "python",
   "name": "python3"
  },
  "language_info": {
   "codemirror_mode": {
    "name": "ipython",
    "version": 3
   },
   "file_extension": ".py",
   "mimetype": "text/x-python",
   "name": "python",
   "nbconvert_exporter": "python",
   "pygments_lexer": "ipython3",
   "version": "3.7.5"
  }
 },
 "nbformat": 4,
 "nbformat_minor": 4
}
