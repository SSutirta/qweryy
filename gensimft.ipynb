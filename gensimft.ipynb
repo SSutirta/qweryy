{
 "cells": [
  {
   "cell_type": "code",
   "execution_count": 1,
   "metadata": {},
   "outputs": [],
   "source": [
    "import gensim\n",
    "from gensim.models.wrappers import FastText\n",
    "import time\n",
    "import os\n",
    "from tkinter import filedialog\n",
    "from tkinter import *\n",
    "import tkinter.ttk as ttk\n",
    "import tkinter.messagebox\n",
    "import re\n",
    "from collections import Counter"
   ]
  },
  {
   "cell_type": "code",
   "execution_count": 2,
   "metadata": {},
   "outputs": [],
   "source": [
    "#Load fastText model\n",
    "model = FastText.load_fasttext_format(r\"C:\\Users\\AlnthraevaN\\Documents\\Skripsi\\cc.en.300.bin\")"
   ]
  },
  {
   "cell_type": "code",
   "execution_count": null,
   "metadata": {},
   "outputs": [],
   "source": [
    "#Get all words in model\n",
    "words = list(model.wv.vocab)\n",
    "\n",
    "#Rank how often a word come out\n",
    "w_rank = {}\n",
    "for i,word in enumerate(words):\n",
    "    w_rank[word] = i\n",
    "    \n",
    "WORDS = w_rank\n",
    "\n",
    "def words(text): return re.findall(r'\\w+', text.lower())\n",
    "\n",
    "#Probability of `word`.\n",
    "def P(word, N=sum(WORDS.values())): \n",
    "    return WORDS[word] / N\n",
    "\n",
    "#Most probable spelling correction for word.\n",
    "def correction(word): \n",
    "    return max(candidates(word), key=P)\n",
    "\n",
    "#Generate possible spelling corrections for word.\n",
    "def candidates(word): \n",
    "    return (known([word]) or known(edits1(word)) or known(edits2(word)) or [word])\n",
    "\n",
    "#The subset of `words` that appear in the dictionary of WORDS.\n",
    "def known(words): \n",
    "    return set(w for w in words if w in WORDS)\n",
    "\n",
    "#All edits that are one edit away from `word`.\n",
    "def edits1(word):\n",
    "    letters    = 'abcdefghijklmnopqrstuvwxyz'\n",
    "    splits     = [(word[:i], word[i:])    for i in range(len(word) + 1)]\n",
    "    deletes    = [L + R[1:]               for L, R in splits if R]\n",
    "    transposes = [L + R[1] + R[0] + R[2:] for L, R in splits if len(R)>1]\n",
    "    replaces   = [L + c + R[1:]           for L, R in splits if R for c in letters]\n",
    "    inserts    = [L + c + R               for L, R in splits for c in letters]\n",
    "    return set(deletes + transposes + replaces + inserts)\n",
    "\n",
    "#All edits that are two edits away from `word`.\n",
    "def edits2(word): \n",
    "    return (e2 for e1 in edits1(word) for e2 in edits1(e1))\n",
    "\n",
    "#Handling browse button to work\n",
    "def browse_button():\n",
    "    directory = filedialog.askdirectory()\n",
    "    path.set(directory)\n",
    "    \n",
    "    #Delete the content of text box if a directory is selected, then insert the directory.\n",
    "    tb2.delete(\"1.0\", \"end-1c\")\n",
    "    tb2.insert(0.0, str(directory))\n",
    "\n",
    "#Get input\n",
    "def retrieve_input():\n",
    "    input = tb1.get(\"1.0\",\"end-1c\")\n",
    "    return input\n",
    "\n",
    "#Get directory\n",
    "def retrieve_directory():\n",
    "    directory = tb2.get(\"1.0\", \"end-1c\")\n",
    "    return directory\n",
    "\n",
    "#Open folder of selected file\n",
    "def open_folder(item, fn):\n",
    "    if(item is \"\"):\n",
    "        tkinter.messagebox.showerror(title=\"Please select a file\", message=\"Please select a file\")\n",
    "    for i in fn:\n",
    "        if(i[0] in item):\n",
    "            os.startfile(i[1])\n",
    "\n",
    "#Pop-up a result window\n",
    "def resultwindow(fn):\n",
    "    def on_tree"
   ]
  },
  {
   "cell_type": "code",
   "execution_count": 56,
   "metadata": {},
   "outputs": [],
   "source": [
    "#Get all words in model\n",
    "words = list(model.wv.vocab)\n",
    "\n",
    "#Rank how often a word come out\n",
    "w_rank = {}\n",
    "for i,word in enumerate(words):\n",
    "    w_rank[word] = i\n",
    "    \n",
    "WORDS = w_rank\n",
    "\n",
    "def words(text): return re.findall(r'\\w+', text.lower())\n",
    "\n",
    "#Probability of `word`.\n",
    "def P(word, N=sum(WORDS.values())): \n",
    "    return WORDS[word] / N\n",
    "\n",
    "#Most probable spelling correction for word.\n",
    "def correction(word): \n",
    "    return max(candidates(word), key=P)\n",
    "\n",
    "#Generate possible spelling corrections for word.\n",
    "def candidates(word): \n",
    "    return (known([word]) or known(edits1(word)) or known(edits2(word)) or [word])\n",
    "\n",
    "#The subset of `words` that appear in the dictionary of WORDS.\n",
    "def known(words): \n",
    "    return set(w for w in words if w in WORDS)\n",
    "\n",
    "#All edits that are one edit away from `word`.\n",
    "def edits1(word):\n",
    "    letters    = 'abcdefghijklmnopqrstuvwxyz'\n",
    "    splits     = [(word[:i], word[i:])    for i in range(len(word) + 1)]\n",
    "    deletes    = [L + R[1:]               for L, R in splits if R]\n",
    "    transposes = [L + R[1] + R[0] + R[2:] for L, R in splits if len(R)>1]\n",
    "    replaces   = [L + c + R[1:]           for L, R in splits if R for c in letters]\n",
    "    inserts    = [L + c + R               for L, R in splits for c in letters]\n",
    "    return set(deletes + transposes + replaces + inserts)\n",
    "\n",
    "#All edits that are two edits away from `word`.\n",
    "def edits2(word): \n",
    "    return (e2 for e1 in edits1(word) for e2 in edits1(e1))\n",
    "\n",
    "#Handling browse button to work\n",
    "def browse_button():\n",
    "    directory = filedialog.askdirectory()\n",
    "    path.set(directory)\n",
    "    \n",
    "    #Delete the content of text box if a directory is selected, then insert the directory.\n",
    "    tb2.delete(\"1.0\", \"end-1c\")\n",
    "    tb2.insert(0.0, str(directory))\n",
    "\n",
    "#Get input\n",
    "def retrieve_input():\n",
    "    input = tb1.get(\"1.0\",\"end-1c\")\n",
    "    return input\n",
    "\n",
    "#Get directory\n",
    "def retrieve_directory():\n",
    "    directory = tb2.get(\"1.0\", \"end-1c\")\n",
    "    return directory\n",
    "\n",
    "#Open folder of selected file\n",
    "def open_folder(item):\n",
    "    if(item is \"\"):\n",
    "        tkinter.messagebox.showerror(title=\"Please select a file\", message=\"Please select a file\")\n",
    "    else:\n",
    "        os.startfile(item)\n",
    "\n",
    "#Pop-up a result window\n",
    "def resultwindow(fn):\n",
    "    #Get File ID when item is selected on list\n",
    "    def on_tree_select(event):\n",
    "        for item in tree.selection():\n",
    "            global item_text \n",
    "            item_text = tree.item(item)['values'][0]\n",
    "            print(item_text)\n",
    "\n",
    "    resultwindow = Toplevel(root)\n",
    "    resultwindow.geometry(\"1000x350\")\n",
    "    resultwindow.title(\"QWERY\")\n",
    "    resultwindow.resizable(width=True, height=False)\n",
    "    \n",
    "    appname = Label(resultwindow, text=\"QWERY Search Engine\")\n",
    "    appname.pack(padx=(20,20), pady=(10,20))\n",
    "    \n",
    "    ListFrame = Frame(resultwindow)\n",
    "    ListFrame.pack(fill=X, padx=(50, 50))\n",
    "    \n",
    "    vsb = ttk.Scrollbar(ListFrame, orient=\"vertical\")\n",
    "\n",
    "    tree = ttk.Treeview(ListFrame, column=(\"Directory\", \"Keyword\"), yscrollcommand=vsb.set)\n",
    "    \n",
    "    vsb.config(command=tree.yview)\n",
    "    vsb.pack(side=RIGHT, fill=Y)\n",
    "    \n",
    "    tree.pack(fill=X)\n",
    "    tree.bind(\"<<TreeviewSelect>>\", on_tree_select)\n",
    "    \n",
    "    ofbtn = Button(resultwindow, text=\"Open Folder\", command= lambda: open_folder(item_text))\n",
    "    ofbtn.pack(anchor=SE, padx=(0, 50), pady=(20,20))\n",
    "    \n",
    "    tree.heading(\"#0\", text=\"File Name\")\n",
    "    tree.heading(\"#1\", text=\"Directory\")\n",
    "    tree.heading(\"#2\", text=\"Keyword\")\n",
    "    for i in fn:\n",
    "        tree.insert(\"\", \"end\", text=i[0], values=(i[1], i[2]))\n",
    "    \n",
    "def search(path):\n",
    "    if(os.path.exists(path)):\n",
    "        word = str(retrieve_input())\n",
    "        if(word is \"\"):\n",
    "            tkinter.messagebox.showerror(title=\"Please Enter Keyword\", message=\"Please Enter Keyword\")\n",
    "        else:\n",
    "            kw = [] #Array of keyword(s) to search\n",
    "            kw.append(str.lower(word))\n",
    "            keyword = model.most_similar(positive=[word], topn=100)\n",
    "            #Spell checking if the first NN has score lower than 0.70 (Probability a typo on input)\n",
    "            if(keyword[0][1] < 0.70):\n",
    "                if(word not in str.lower(correction(word))):\n",
    "                    word = str.lower(correction(word))\n",
    "                    kw.append(word)\n",
    "                    keyword = model.most_similar(positive=[word], topn=100)\n",
    "            filename = []\n",
    "            filepath = []\n",
    "            kwused = []\n",
    "            result = []\n",
    "            #Lists of file found with keyword\n",
    "            for i in keyword:\n",
    "                if(i[1] >= 0.70):\n",
    "                    FLAG = TRUE\n",
    "                    #Checking if NN is in kw array\n",
    "                    for l in kw:\n",
    "                        if(l in str.lower(i[0])):\n",
    "                            FLAG = FALSE\n",
    "                    if(FLAG and str.lower(i[0]) not in kw):\n",
    "                        kw.append(str.lower(i[0]))\n",
    "            for root, dirs, files in os.walk(path):\n",
    "                # Searching files with keyword array\n",
    "                for j in files:\n",
    "                    for k in kw:\n",
    "                        if str.lower(k) in str.lower(os.path.splitext(j)[0]):\n",
    "                            result.append([j, root, k])\n",
    "                            filepath.append(root)\n",
    "                            filename.append(j)\n",
    "                            kwused.append(str.lower(k))\n",
    "            if result:\n",
    "                # Should be stored to Array List\n",
    "    #             print(filepath)\n",
    "    #             print(filename)\n",
    "    #             print(kwused)\n",
    "                resultwindow(result)\n",
    "                print(result[0][0])\n",
    "                print(result[0][1])\n",
    "                print(result[0][2])\n",
    "            else:\n",
    "                 tkinter.messagebox.showerror(title=\"No File Found\", message=\"No File Found\")\n",
    "    else:\n",
    "        tkinter.messagebox.showerror(title=\"Directory Not Found\", message=\"Please enter the right directory\")"
   ]
  },
  {
   "cell_type": "code",
   "execution_count": 57,
   "metadata": {},
   "outputs": [
    {
     "name": "stdout",
     "output_type": "stream",
     "text": [
      "kitten.jpg\n",
      "C:/Users/AlnthraevaN/Documents/Skripsi\n",
      "kitten\n",
      "C:/Users/AlnthraevaN/Documents/Skripsi\\qwery\\venv\\Lib\\site-packages\\numpy\\core\\tests\n",
      "C:/Users/AlnthraevaN/Documents/Skripsi\\qwery\\venv\\Lib\\site-packages\\numpy\\core\\tests\\__pycache__\n",
      "C:/Users/AlnthraevaN/Documents/Skripsi\\qwery\\venv\\Lib\\site-packages\\numpy\\linalg\\tests\\__pycache__\n",
      "C:/Users/AlnthraevaN/Documents/Skripsi\\qwery\\venv\\Lib\\site-packages\\numpy\\ma\\tests\\__pycache__\n"
     ]
    }
   ],
   "source": [
    "root = Tk()\n",
    "path = StringVar()\n",
    "\n",
    "root.geometry(\"350x200\")\n",
    "root.title(\"QWERY\")\n",
    "root.resizable(width=False, height=False)\n",
    "appname = Label(root, text=\"QWERY Search Engine\")\n",
    "appname.grid(row=0, columnspan=4, padx=(20,20), pady=(10,20))\n",
    "lbl1 = Label(root, text=\"Keyword: \")\n",
    "lbl1.grid(row=2, column=0, padx=(20,0))\n",
    "tb1 = Text(master=root, height=1, width=30, wrap=\"none\")\n",
    "#e1.insert(0, 'keyword')\n",
    "tb1.grid(row=2, column=1, columnspan=2, padx=(0,20))\n",
    "tb2 = Text(master=root, height=1, width=30) #, textvariable=path\n",
    "tb2.grid(row=3, column=0, columnspan=2, pady=(10,0), padx=(22,0))\n",
    "button2 = Button(master= root, text=\"Browse\", command=browse_button)\n",
    "button2.grid(row=3, column=2, padx=(8, 20), pady=(10,0))\n",
    "button1 = Button(master=root, text=\"Search\", width=30, command= lambda: search(retrieve_directory()))\n",
    "button1.grid(row=4, columnspan=4, pady=(10,0))\n",
    "\n",
    "root.mainloop()"
   ]
  },
  {
   "cell_type": "code",
   "execution_count": 21,
   "metadata": {
    "scrolled": true
   },
   "outputs": [
    {
     "name": "stdout",
     "output_type": "stream",
     "text": [
      "a\n"
     ]
    },
    {
     "data": {
      "text/plain": [
       "'a'"
      ]
     },
     "execution_count": 21,
     "metadata": {},
     "output_type": "execute_result"
    }
   ],
   "source": [
    "word = input()\n",
    "correction(word)"
   ]
  },
  {
   "cell_type": "code",
   "execution_count": 107,
   "metadata": {},
   "outputs": [
    {
     "name": "stdout",
     "output_type": "stream",
     "text": [
      "enchanting\n",
      "['enchanting', 'captivating', 'bewitching', 'enchanted', 'mesmerizing', 'entrancing', 'beguiling', 'spellbinding']\n"
     ]
    }
   ],
   "source": [
    "kw = []\n",
    "inp = input()\n",
    "kw.append(str.lower(inp))\n",
    "keyword = model.most_similar(positive=inp, topn=100)\n",
    "if(keyword[0][1] < 0.70):\n",
    "    if(word not in str.lower(correction(word))):\n",
    "        word = str.lower(correction(word))\n",
    "        kw.append(word)\n",
    "        keyword = model.most_similar(positive=[word], topn=100)\n",
    "for i in keyword:\n",
    "    if(i[1] >= 0.70):\n",
    "        FLAG = TRUE\n",
    "        #Checking if NN is in kw array\n",
    "        for l in kw:\n",
    "            if(l in str.lower(i[0])):\n",
    "                FLAG = FALSE\n",
    "        if(FLAG and str.lower(i[0]) not in kw):\n",
    "            kw.append(str.lower(i[0]))\n",
    "            \n",
    "print(kw)"
   ]
  },
  {
   "cell_type": "code",
   "execution_count": null,
   "metadata": {},
   "outputs": [],
   "source": []
  },
  {
   "cell_type": "code",
   "execution_count": 5,
   "metadata": {},
   "outputs": [
    {
     "name": "stdout",
     "output_type": "stream",
     "text": [
      "cat\n",
      "[('cats', 0.8350066542625427), ('kitty', 0.8233458399772644), ('kitten', 0.8083018660545349), ('feline', 0.7533664703369141), ('moggie', 0.7111549973487854), ('cat.It', 0.7107510566711426), ('dog', 0.707861065864563), ('cat.The', 0.7065864205360413), ('cat.I', 0.7062476873397827), ('moggy', 0.7057440280914307), ('cat.She', 0.7033248543739319), ('kittie', 0.7000037431716919), ('cat.He', 0.6952763199806213), ('kitties', 0.6949990391731262), ('felines', 0.6948096752166748), ('housecat', 0.6906854510307312), ('cat-', 0.6871088147163391), ('kittens', 0.6869614720344543), ('cat.And', 0.6846374273300171), ('meow', 0.6820009350776672), ('non-cat', 0.6775069236755371), ('pet', 0.6753261685371399), ('house-cat', 0.6749395132064819), ('moggies', 0.6738526821136475), ('cat.We', 0.6724949479103088), ('cat.This', 0.6650228500366211), ('cat.But', 0.6587257385253906), ('kitteh', 0.6582908630371094), ('Cat', 0.6548309326171875), ('cat.You', 0.6535234451293945), ('cat.A', 0.6504103541374207), ('tabby', 0.6499239206314087), ('fur-ball', 0.6484192609786987), ('kitty-cat', 0.6481986045837402), ('kittys', 0.6434450149536133), ('tom-cat', 0.6393874883651733), ('cat-person', 0.6386955380439758), ('cats-', 0.6317421197891235), ('furball', 0.6278955936431885), ('beagle', 0.6276321411132812), ('cats.', 0.6265422701835632), ('cat-owners', 0.6216720938682556), ('cat-lover', 0.6213408708572388), ('puppy', 0.6201645731925964), ('feline-friendly', 0.618576169013977), ('kitten.', 0.6172464489936829), ('anti-cat', 0.6165105700492859), ('cat-nip', 0.6147420406341553), ('fluffball', 0.6143971681594849), ('pug', 0.6139822006225586), ('kittycat', 0.6135517954826355), ('dachshund', 0.6128016710281372), ('chihuahua', 0.6118795871734619), ('rattie', 0.6092467308044434), ('meezer', 0.6041660308837891), ('cat-lovers', 0.6004787087440491), ('chihuaha', 0.5993062257766724), ('schnauzer', 0.5992317795753479), ('pup', 0.5987316966056824), ('furballs', 0.5984053611755371), ('cat-sized', 0.597692608833313), ('poodle', 0.5959423780441284), ('scardy', 0.5949437022209167), ('dachsund', 0.5944275856018066), ('purrson', 0.5918178558349609), ('kittehs', 0.5912404656410217), ('pussy-cat', 0.5911558866500854), ('fraidy', 0.5901924967765808), ('cat-dog', 0.5892521142959595), ('cat-less', 0.5881373286247253), ('dogs', 0.5879786014556885), ('housecats', 0.5879470705986023), ('tortie', 0.5856114625930786), ('catI', 0.5843249559402466), ('tuxie', 0.5836657285690308), ('litter-box', 0.5834711790084839), ('raccoon', 0.5825896263122559), ('cockatiel', 0.5807181000709534), ('cats.This', 0.5805494785308838), ('kitty.', 0.5800703763961792), ('min-pin', 0.5795531868934631), ('dachsie', 0.5788058042526245), ('cats.It', 0.578646719455719), ('Furball', 0.5776870250701904), ('cattitude', 0.5774588584899902), ('meowing', 0.5773558616638184), ('hamster', 0.5759433507919312), ('doggie', 0.5756458044052124), ('shorthair', 0.5748906135559082), (\"'s-paw\", 0.573354959487915), ('siamese', 0.5733432769775391), ('kitty-cats', 0.5726394057273865), ('cats.I', 0.5726162195205688), ('cat-loving', 0.5724928379058838), ('pomeranian', 0.5709311962127686), ('poochie', 0.5708082318305969), ('pekingese', 0.5703452825546265), ('woofie', 0.5692952871322632), ('shih-tzu', 0.5689255595207214), ('Cats', 0.56761634349823)]\n"
     ]
    }
   ],
   "source": [
    "inp = input()\n",
    "keyword = model.most_similar(positive=inp, topn=100)\n",
    "print(keyword)"
   ]
  },
  {
   "cell_type": "code",
   "execution_count": 10,
   "metadata": {},
   "outputs": [
    {
     "ename": "NameError",
     "evalue": "name 'result' is not defined",
     "output_type": "error",
     "traceback": [
      "\u001b[1;31m---------------------------------------------------------------------------\u001b[0m",
      "\u001b[1;31mNameError\u001b[0m                                 Traceback (most recent call last)",
      "\u001b[1;32m<ipython-input-10-6459d04d738f>\u001b[0m in \u001b[0;36m<module>\u001b[1;34m\u001b[0m\n\u001b[1;32m----> 1\u001b[1;33m \u001b[0mprint\u001b[0m\u001b[1;33m(\u001b[0m\u001b[0mresult\u001b[0m\u001b[1;33m)\u001b[0m\u001b[1;33m\u001b[0m\u001b[1;33m\u001b[0m\u001b[0m\n\u001b[0m",
      "\u001b[1;31mNameError\u001b[0m: name 'result' is not defined"
     ]
    }
   ],
   "source": [
    "print(result)"
   ]
  },
  {
   "cell_type": "code",
   "execution_count": null,
   "metadata": {
    "collapsed": true
   },
   "outputs": [],
   "source": []
  }
 ],
 "metadata": {
  "kernelspec": {
   "display_name": "Python 3",
   "language": "python",
   "name": "python3"
  },
  "language_info": {
   "codemirror_mode": {
    "name": "ipython",
    "version": 3
   },
   "file_extension": ".py",
   "mimetype": "text/x-python",
   "name": "python",
   "nbconvert_exporter": "python",
   "pygments_lexer": "ipython3",
   "version": "3.7.5"
  }
 },
 "nbformat": 4,
 "nbformat_minor": 2
}
