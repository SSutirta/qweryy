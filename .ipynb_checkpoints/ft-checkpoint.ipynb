{
 "cells": [
  {
   "cell_type": "code",
   "execution_count": 1,
   "metadata": {},
   "outputs": [],
   "source": [
    "import fasttext\n",
    "import time\n",
    "import os"
   ]
  },
  {
   "cell_type": "code",
   "execution_count": null,
   "metadata": {},
   "outputs": [],
   "source": []
  },
  {
   "cell_type": "markdown",
   "metadata": {},
   "source": [
    "<h2>Loading Model of english dictionary</h2>\n",
    "New Laptop ±30s // PC ±60s"
   ]
  },
  {
   "cell_type": "code",
   "execution_count": 2,
   "metadata": {},
   "outputs": [
    {
     "name": "stdout",
     "output_type": "stream",
     "text": [
<<<<<<< HEAD
      "Model loaded in 68.94324040412903s\n"
=======
      "Model loaded in 55.01487326622009s\n"
>>>>>>> master
     ]
    },
    {
     "name": "stderr",
     "output_type": "stream",
     "text": [
      "\n"
     ]
    }
   ],
   "source": [
    "start = time.time()\n",
    "model = fasttext.load_model(r\"C:\\Users\\AlnthraevaN\\Documents\\Skripsi\\cc.en.300.bin\")\n",
    "print(f\"Model loaded in {time.time()-start}s\")"
   ]
  },
  {
   "cell_type": "markdown",
   "metadata": {},
   "source": [
    "<h2>Get value</h2>\n",
    "New laptop = first time &lt;2m, then &lt;1s // PC = first time &lt;15s, then &lt;1s"
   ]
  },
  {
   "cell_type": "code",
   "execution_count": 3,
   "metadata": {},
   "outputs": [
    {
     "name": "stdout",
     "output_type": "stream",
     "text": [
      "NN in 12.146052360534668s\n",
      "[(0.8350069522857666, 'cats'), (0.8233457207679749, 'kitty'), (0.8083016276359558, 'kitten')]\n"
     ]
    }
   ],
   "source": [
    "start = time.time()\n",
    "var = model.get_nearest_neighbors(\"cat\", 3)\n",
    "print(f\"NN in {time.time()-start}s\")\n",
    "print(var)"
   ]
  },
  {
   "cell_type": "markdown",
   "metadata": {},
   "source": [
    "<h2>var[data_ke-][0=range, 1=word]</h2>"
   ]
  },
  {
   "cell_type": "code",
   "execution_count": 4,
   "metadata": {},
   "outputs": [
    {
     "data": {
      "text/plain": [
       "(0.8350069522857666, 'cats')"
      ]
     },
     "execution_count": 4,
     "metadata": {},
     "output_type": "execute_result"
    }
   ],
   "source": [
    "var[0]"
   ]
  },
  {
   "cell_type": "markdown",
   "metadata": {},
   "source": [
    "<h2>NN with range defined</h2>"
   ]
  },
  {
   "cell_type": "code",
   "execution_count": 44,
   "metadata": {
    "scrolled": true
   },
   "outputs": [
    {
     "name": "stdout",
     "output_type": "stream",
     "text": [
      "(0.8463464975357056, 'dogs')\n",
      "(0.7873005270957947, 'puppy')\n",
      "(0.7692237496376038, 'pup')\n",
      "(0.7435278296470642, 'canine')\n",
      "(0.733370840549469, 'pet')\n",
      "(0.7326501607894897, 'doggie')\n",
      "(0.7242385745048523, 'dog--')\n",
      "(0.7231176495552063, 'beagle')\n",
      "(0.7229929566383362, 'dachshund')\n",
      "(0.7078613042831421, 'cat')\n",
      "(0.7078099846839905, 'dog.We')\n",
      "(0.706914484500885, 'dog.So')\n",
      "(0.705765962600708, 'dog.This')\n",
      "(0.7048550844192505, 'pooch')\n",
      "(0.7028048038482666, 'dog.But')\n",
      "(0.7025039792060852, 'non-dog')\n",
      "(0.7014652490615845, 'rottweiler')\n",
      "(0.6967090964317322, 'dog.He')\n",
      "(0.693964421749115, 'dog-')\n",
      "(0.6936827301979065, 'dog.And')\n",
      "(0.6924244165420532, 'dog.')\n",
      "(0.6910536885261536, 'chihuahua')\n",
      "(0.6909169554710388, 'doberman')\n",
      "(0.6872849464416504, 'dog.As')\n",
      "(0.6853628754615784, 'pooches')\n",
      "(0.6823294758796692, 'poodle')\n",
      "(0.682249128818512, 'dog.She')\n",
      "(0.681138813495636, 'dog.What')\n",
      "(0.6799488663673401, 'dog.When')\n",
      "(0.6792084574699402, 'dog.A')\n",
      "(0.6785731911659241, 'dog.It')\n",
      "(0.6775302886962891, 'dog.That')\n",
      "(0.674895167350769, 'Dog')\n",
      "(0.6748825311660767, 'small-dog')\n",
      "(0.6742942333221436, 'dog.I')\n",
      "(0.6727144718170166, 'doggies')\n",
      "(0.6723217368125916, 'schnauzer')\n",
      "(0.6715127229690552, 'labrador')\n",
      "(0.6712470054626465, 'sheltie')\n",
      "(0.6706845164299011, 'dachsund')\n",
      "(0.670311450958252, 'dog.If')\n",
      "(0.6686570048332214, 'labradoodle')\n",
      "(0.6676409244537354, 'dogs.If')\n",
      "(0.6666158437728882, 'Rottweiler')\n",
      "(0.6653838753700256, 'chihuaha')\n",
      "(0.6634559631347656, 'dog.The')\n",
      "(0.6605198383331299, 'rottweiller')\n",
      "(0.6603261232376099, 'bullmastiff')\n",
      "(0.6592223644256592, 'daschund')\n",
      "(0.6587749719619751, 'dogs.He')\n",
      "(0.6551425457000732, 'dogs.It')\n",
      "(0.6547033190727234, 'weimaraner')\n",
      "(0.6539730429649353, 'poochie')\n",
      "(0.6536865830421448, 'cockapoo')\n",
      "(0.6534876823425293, 'dogs.But')\n",
      "(0.6523160934448242, 'kennel')\n",
      "(0.6509638428688049, 'dog.My')\n",
      "(0.6497896909713745, 'schnoodle')\n",
      "(0.6482423543930054, 'dogs.So')\n",
      "(0.6465548276901245, 'mutt')\n",
      "(0.6459473967552185, 'dogs.This')\n",
      "(0.6452814340591431, 'dog.You')\n",
      "(0.6444829106330872, 'Yorkie')\n",
      "(0.6439379453659058, 'canines')\n",
      "(0.642195463180542, 'pug')\n",
      "(0.6414427757263184, 'yorkie')\n",
      "(0.6400036215782166, 'Doberman')\n",
      "(0.6385815739631653, 'dog.In')\n",
      "(0.6355341076850891, 'Daschund')\n",
      "(0.6349397301673889, 'dachshunds')\n",
      "(0.6344326138496399, 'shih-tzu')\n",
      "(0.6328079700469971, 'mastiff')\n",
      "(0.6322602033615112, 'Rotweiller')\n",
      "(0.6320241093635559, 'bulldog')\n",
      "(0.6311543583869934, 'min-pin')\n",
      "(0.6311337947845459, 'malamute')\n",
      "(0.6311072111129761, 'dachsunds')\n",
      "(0.6305983066558838, 'doggy')\n",
      "(0.6298600435256958, 'poochies')\n",
      "(0.6289892196655273, 'terrier')\n",
      "(0.6286965608596802, 'dogs.A')\n",
      "(0.6285573840141296, 'dachsie')\n",
      "(0.628498375415802, 'pitbull')\n",
      "(0.628085196018219, 'dobermann')\n",
      "(0.6276882886886597, 'pomeranian')\n",
      "(0.6272611021995544, 'dog-owner')\n",
      "(0.6240373849868774, 'corgi')\n",
      "(0.6234747171401978, 'puppies')\n",
      "(0.6230998635292053, 'chihuahuas')\n",
      "(0.6230164766311646, 'dogs--')\n",
      "(0.6228706240653992, 'Rottie')\n",
      "(0.6215720772743225, 'spoodle')\n",
      "(0.6215496063232422, 'dogs.I')\n",
      "(0.6210173964500427, 'pekingese')\n",
      "(0.6196659207344055, 'greyhound')\n",
      "(0.6195849776268005, 'pit-bull')\n",
      "(0.6195627450942993, 'hound')\n",
      "(0.6183315515518188, 'dog-person')\n",
      "(0.6179131269454956, 'Westie')\n",
      "(0.6171624660491943, 'dog.There')\n",
      "(0.6161583662033081, 'staffie')\n",
      "(0.6139417290687561, 'dogs.The')\n",
      "(0.6137280464172363, 'huskie')\n",
      "(0.613039493560791, 'dogs.')\n",
      "(0.6125507950782776, 'basenji')\n",
      "(0.6119030117988586, 'leash')\n",
      "(0.6118795275688171, 'maltipoo')\n",
      "(0.6114963293075562, 'kitten')\n",
      "(0.6111713647842407, 'cats')\n",
      "(0.6105248928070068, 'spaniel')\n",
      "(0.6104635000228882, 'dogs-')\n",
      "(0.6098362803459167, 'dogs.And')\n",
      "(0.6087992191314697, 'dogs.When')\n",
      "(0.6070455312728882, 'Pit-bull')\n",
      "(0.6058989763259888, 'housebroke')\n",
      "(0.6058515310287476, 'leash-free')\n",
      "(0.605263352394104, 'chiweenie')\n",
      "(0.6048814654350281, 'dog-handler')\n",
      "(0.6029590368270874, 'Fido')\n",
      "(0.6029564142227173, 'dog-aggressive')\n",
      "(0.6028854250907898, 'Dachshund')\n",
      "(0.6028614044189453, 'puggle')\n",
      "(0.6023315787315369, 'rotweiler')\n",
      "(0.6022704839706421, 'chiwawa')\n",
      "(0.6017248630523682, 'dog-to-dog')\n",
      "(0.6015830039978027, 'shitzu')\n",
      "(0.6014452576637268, 'rottie')\n",
      "(0.600530743598938, 'dog-less')\n",
      "(0.6003198027610779, 'Weimaraner')\n"
     ]
    }
   ],
   "source": [
    "kucing = model.get_nearest_neighbors(\"dog\", k=200)\n",
    "for i in kucing:\n",
    "    if(i[0] > 0.60):\n",
    "        print(i)"
   ]
  },
  {
   "cell_type": "markdown",
   "metadata": {},
   "source": [
    "<h2>NN with input</h2>\n",
    "input is always str"
   ]
  },
  {
   "cell_type": "code",
   "execution_count": 7,
   "metadata": {},
   "outputs": [
    {
     "name": "stdin",
     "output_type": "stream",
     "text": [
      " kucing\n",
      " 5\n"
     ]
    },
    {
     "data": {
      "text/plain": [
       "[(0.7659709453582764, 'Kucing'),\n",
       " (0.6992509961128235, 'busuk'),\n",
       " (0.6941757798194885, 'kutu'),\n",
       " (0.6888805031776428, 'mulut'),\n",
       " (0.6860681772232056, 'anjing')]"
      ]
     },
     "execution_count": 7,
     "metadata": {},
     "output_type": "execute_result"
    }
   ],
   "source": [
    "word = input()\n",
    "ks = input()\n",
    "model.get_nearest_neighbors(word, int(ks))"
   ]
  },
  {
   "cell_type": "markdown",
   "metadata": {},
   "source": [
    "<h1>File Searching with FastText</h1>"
   ]
  },
  {
   "cell_type": "code",
<<<<<<< HEAD
   "execution_count": 3,
=======
   "execution_count": 41,
>>>>>>> master
   "metadata": {},
   "outputs": [
    {
     "name": "stdin",
     "output_type": "stream",
     "text": [
      " hero\n"
     ]
    },
    {
     "name": "stdout",
     "output_type": "stream",
     "text": [
      "C:\\Users\\AlnthraevaN\\Downloads\\heroes.jpg\n",
      "C:\\Users\\AlnthraevaN\\Downloads\\heroes.png\n",
      "C:\\Users\\AlnthraevaN\\Downloads\\[HorribleSubs] Boku no Hero Academia - 64 [1080p].mkv\n",
      "C:\\Users\\AlnthraevaN\\Downloads\\[HorribleSubs] Boku no Hero Academia - 65 [1080p].mkv\n",
      "C:\\Users\\AlnthraevaN\\Downloads\\[HorribleSubs] Boku no Hero Academia - 66 [1080p].mkv\n",
      "C:\\Users\\AlnthraevaN\\Downloads\\[HorribleSubs] Boku no Hero Academia - 67 [720p].mkv\n",
      "C:\\Users\\AlnthraevaN\\Downloads\\[HorribleSubs] Boku no Hero Academia - 68 [1080p].mkv\n",
      "C:\\Users\\AlnthraevaN\\Downloads\\asdasdvillainwuwu.exe\n",
      "C:\\Users\\AlnthraevaN\\Downloads\\villain.png\n",
      "C:\\Users\\AlnthraevaN\\Downloads\\villainwakwaw.exe\n",
      "C:\\Users\\AlnthraevaN\\Downloads\\Minecraft 1.13.1 by TeamExtreme\\Windows\\testhero.exe\n"
     ]
    }
   ],
   "source": [
    "start = time.time()\n",
    "word = input()\n",
    "\n",
    "keyword = model.get_nearest_neighbors(word, 100)\n",
    "counter = 0\n",
    "lists = []\n",
    "for root, dirs, files in os.walk(r\"C:\\Users\\AlnthraevaN\\Downloads\"):\n",
<<<<<<< HEAD
    "    # Search the actual keyword\n",
=======
>>>>>>> master
    "    for j in files:\n",
    "        if str.lower(word) in str.lower(os.path.splitext(j)[0]):\n",
    "            print(root + \"\\\\\" + j)\n",
    "            lists.append(root + \"\\\\\" + j)\n",
<<<<<<< HEAD
    "    # Search the NN of keyword\n",
=======
>>>>>>> master
    "    for i in keyword:\n",
    "        if(i[0] > 0.60):\n",
    "            for k in files:\n",
    "                if str.lower(i[1]) in str.lower(os.path.splitext(k)[0]):\n",
    "                    if root + \"\\\\\" + k not in lists:\n",
    "                        print(root + \"\\\\\" + k)\n",
    "                        lists.append(root + \"\\\\\" + k)\n",
    "# print(len(os.listdir(r\"C:\\Users\\AlnthraevaN\\Downloads\")))\n",
    "# print(str(len(i)) + f\" files search in {time.time()-start}s\")\n",
    "                        \n",
    "# if there's no item found\n",
    "if not lists:\n",
    "    print(\"No file found\")"
   ]
  },
  {
   "cell_type": "code",
   "execution_count": null,
   "metadata": {},
   "outputs": [],
   "source": []
  }
 ],
 "metadata": {
  "kernelspec": {
   "display_name": "Python 3",
   "language": "python",
   "name": "python3"
  },
  "language_info": {
   "codemirror_mode": {
    "name": "ipython",
    "version": 3
   },
   "file_extension": ".py",
   "mimetype": "text/x-python",
   "name": "python",
   "nbconvert_exporter": "python",
   "pygments_lexer": "ipython3",
   "version": "3.7.5"
  }
 },
 "nbformat": 4,
 "nbformat_minor": 4
}
