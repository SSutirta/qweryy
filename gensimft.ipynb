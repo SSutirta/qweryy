{
 "cells": [
  {
   "cell_type": "code",
   "execution_count": 2,
   "metadata": {},
   "outputs": [],
   "source": [
    "import gensim\n",
    "from gensim.models.wrappers import FastText\n",
    "import time\n",
    "import os\n",
    "from tkinter import filedialog\n",
    "from tkinter import *\n",
    "import tkinter.messagebox\n",
    "import re\n",
    "from collections import Counter"
   ]
  },
  {
   "cell_type": "code",
   "execution_count": 3,
   "metadata": {},
   "outputs": [
    {
     "name": "stdout",
     "output_type": "stream",
     "text": [
      "Model loaded in 201.48446226119995s\n"
     ]
    }
   ],
   "source": [
    "start = time.time()\n",
    "model = FastText.load_fasttext_format(r\"C:\\Users\\AlnthraevaN\\Documents\\Skripsi\\cc.en.300.bin\")\n",
    "print(f\"Model loaded in {time.time()-start}s\")"
   ]
  },
  {
   "cell_type": "code",
   "execution_count": 4,
   "metadata": {},
   "outputs": [
    {
     "name": "stdout",
     "output_type": "stream",
     "text": [
      "cat\n",
      "5\n"
     ]
    },
    {
     "data": {
      "text/plain": [
       "[('cats', 0.8350066542625427),\n",
       " ('kitty', 0.8233458399772644),\n",
       " ('kitten', 0.8083018660545349),\n",
       " ('feline', 0.7533664703369141),\n",
       " ('moggie', 0.7111549973487854)]"
      ]
     },
     "execution_count": 4,
     "metadata": {},
     "output_type": "execute_result"
    }
   ],
   "source": [
    "word = input()\n",
    "ks = input()\n",
    "model.most_similar(positive=[word], topn=int(ks))"
   ]
  },
  {
   "cell_type": "code",
   "execution_count": 4,
   "metadata": {},
   "outputs": [],
   "source": [
    "words = list(model.wv.vocab)\n",
    "\n",
    "w_rank = {}\n",
    "for i,word in enumerate(words):\n",
    "    w_rank[word] = i\n",
    "    \n",
    "WORDS = w_rank"
   ]
  },
  {
   "cell_type": "code",
   "execution_count": 59,
   "metadata": {},
   "outputs": [],
   "source": [
    "def words(text): return re.findall(r'\\w+', text.lower())\n",
    "\n",
    "def P(word, N=sum(WORDS.values())): \n",
    "    \"Probability of `word`.\"\n",
    "    return WORDS[word] / N\n",
    "\n",
    "def correction(word): \n",
    "    \"Most probable spelling correction for word.\"\n",
    "    return max(candidates(word), key=P)\n",
    "\n",
    "def candidates(word): \n",
    "    \"Generate possible spelling corrections for word.\"\n",
    "    return (known([word]) or known(edits1(word)) or known(edits2(word)) or [word])\n",
    "\n",
    "def known(words): \n",
    "    \"The subset of `words` that appear in the dictionary of WORDS.\"\n",
    "    return set(w for w in words if w in WORDS)\n",
    "\n",
    "def edits1(word):\n",
    "    \"All edits that are one edit away from `word`.\"\n",
    "    letters    = 'abcdefghijklmnopqrstuvwxyz'\n",
    "    splits     = [(word[:i], word[i:])    for i in range(len(word) + 1)]\n",
    "    deletes    = [L + R[1:]               for L, R in splits if R]\n",
    "    transposes = [L + R[1] + R[0] + R[2:] for L, R in splits if len(R)>1]\n",
    "    replaces   = [L + c + R[1:]           for L, R in splits if R for c in letters]\n",
    "    inserts    = [L + c + R               for L, R in splits for c in letters]\n",
    "    return set(deletes + transposes + replaces + inserts)\n",
    "\n",
    "def edits2(word): \n",
    "    \"All edits that are two edits away from `word`.\"\n",
    "    return (e2 for e1 in edits1(word) for e2 in edits1(e1))\n",
    "\n",
    "def browse_button():\n",
    "    directory = filedialog.askdirectory()\n",
    "    path.set(directory)\n",
    "    tb2.insert(0.0, str(directory))\n",
    "    #print(\"1 \" + directory)\n",
    "\n",
    "def retrieve_input():\n",
    "    input = tb1.get(\"1.0\",\"end-1c\")\n",
    "    return input\n",
    "\n",
    "def retrieve_directory():\n",
    "    directory = tb2.get(\"1.0\", \"end-1c\")\n",
    "    return directory\n",
    "    \n",
    "# r=root, d=directories, f = files\n",
    "def search(path):\n",
    "    if(os.path.exists(path)):\n",
    "        word = str(retrieve_input()) #Get Input from TKinter\n",
    "        kw = [] #Array of keyword(s) to search\n",
    "        kw.append(str.lower(word))\n",
    "        keyword = model.most_similar(positive=[word], topn=100)\n",
    "        #print(keyword)\n",
    "        #Spell checking if the first NN has score lower than 70 (Probability a typo on input)\n",
    "        if(keyword[0][1] < 0.70):\n",
    "            if(word not in str.lower(correction(word))):\n",
    "                word = str.lower(correction(word))\n",
    "                kw.append(word)\n",
    "                keyword = model.most_similar(positive=[word], topn=100)\n",
    "        filename = []\n",
    "        filepath = []\n",
    "        kwused = []\n",
    "        #Lists of file found with keyword\n",
    "        for i in keyword:\n",
    "            if(i[1] >= 0.60):\n",
    "                FLAG = TRUE\n",
    "                #print(\"Testing \" + str.lower(i[0]))\n",
    "                #Checking if NN is in kw array\n",
    "                for l in kw:\n",
    "                    if(l in str.lower(i[0])):\n",
    "                        FLAG = FALSE\n",
    "                if(FLAG and str.lower(i[0]) not in kw):\n",
    "                    #print(str.lower(i[0]) + \" added to the list\")\n",
    "                    kw.append(str.lower(i[0]))\n",
    "        for root, dirs, files in os.walk(path):\n",
    "            # Searching...\n",
    "            for j in files:\n",
    "                for k in kw:\n",
    "                    if str.lower(k) in str.lower(os.path.splitext(j)[0]):\n",
    "                        #lists.append(root + \"\\\\\" + j)\n",
    "                        filepath.append(root)\n",
    "                        filename.append(j)\n",
    "                        kwused.append(str.lower(k))\n",
    "    # Search the NN of keyword\n",
    "    #         for i in keyword:\n",
    "    #             if(i[0] > 0.60):\n",
    "    #                 print(\"Testing \" + str.lower(i[1]))\n",
    "    #                 for l in kw:\n",
    "    #                     if(l not in str.lower(i[1]) and str.lower(i[1]) not in kw):\n",
    "    #                         print(kw)\n",
    "    #                         kw.append(str.lower(i[1]))\n",
    "    #                         print(\"Searching \" + str.lower(i[1]))\n",
    "    #                         for k in files:\n",
    "    #                             if str.lower(i[1]) in str.lower(os.path.splitext(k)[0]):\n",
    "    #                                 print(str(i[1]))\n",
    "    #                                 if root + \"/\" + k not in lists:\n",
    "    #                                     print(\"got \" + str(i[1]))\n",
    "    #                                     lists.append(root + \"/\" + k)\n",
    "\n",
    "        if filename:\n",
    "            print(filepath)\n",
    "            print(filename)\n",
    "            print(kwused)\n",
    "        else:\n",
    "             tkinter.messagebox.showerror(title=\"No File Found\", message=\"No File Found\")\n",
    "    else:\n",
    "        tkinter.messagebox.showerror(title=\"Directory Not Found\", message=\"Please enter the right directory\")"
   ]
  },
  {
   "cell_type": "code",
   "execution_count": 60,
   "metadata": {},
   "outputs": [],
   "source": [
    "root = Tk()\n",
    "path = StringVar()\n",
    "\n",
    "root.geometry(\"350x200\")\n",
    "root.title(\"QWERY\")\n",
    "root.resizable(width=False, height=False)\n",
    "appname = Label(root, text=\"QWERY Search Engine\")\n",
    "appname.grid(row=0, columnspan=4, padx=(20,20), pady=(10,20))\n",
    "lbl1 = Label(root, text=\"Keyword: \")\n",
    "lbl1.grid(row=2, column=0, padx=(20,0))\n",
    "tb1 = Text(master=root, height=1, width=30, wrap=\"none\")\n",
    "#e1.insert(0, 'keyword')\n",
    "tb1.grid(row=2, column=1, columnspan=2, padx=(0,20))\n",
    "tb2 = Text(master=root, height=1, width=30) #, textvariable=path\n",
    "tb2.grid(row=3, column=0, columnspan=2, pady=(10,0), padx=(22,0))\n",
    "button2 = Button(master= root, text=\"Browse\", command=browse_button)\n",
    "button2.grid(row=3, column=2, padx=(8, 20), pady=(10,0))\n",
    "button1 = Button(master=root, text=\"Search\", width=30, command= lambda: search(retrieve_directory()))\n",
    "button1.grid(row=4, columnspan=4, pady=(10,0))\n",
    "\n",
    "root.mainloop()"
   ]
  },
  {
   "cell_type": "code",
   "execution_count": null,
   "metadata": {},
   "outputs": [],
   "source": []
  },
  {
   "cell_type": "code",
   "execution_count": null,
   "metadata": {},
   "outputs": [],
   "source": []
  }
 ],
 "metadata": {
  "kernelspec": {
   "display_name": "Python 3",
   "language": "python",
   "name": "python3"
  },
  "language_info": {
   "codemirror_mode": {
    "name": "ipython",
    "version": 3
   },
   "file_extension": ".py",
   "mimetype": "text/x-python",
   "name": "python",
   "nbconvert_exporter": "python",
   "pygments_lexer": "ipython3",
   "version": "3.7.5"
  }
 },
 "nbformat": 4,
 "nbformat_minor": 2
}
