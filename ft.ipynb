{
 "cells": [
  {
   "cell_type": "code",
   "execution_count": 1,
   "metadata": {},
   "outputs": [],
   "source": [
    "import fasttext\n",
    "import time\n",
<<<<<<< HEAD
    "import os\n",
    "from tkinter import filedialog\n",
    "from tkinter import *"
=======
    "import os"
>>>>>>> master
   ]
  },
  {
   "cell_type": "markdown",
   "metadata": {},
   "source": [
    "<h2>Loading Model of english dictionary</h2>\n",
    "New Laptop ±30s // PC ±60s"
   ]
  },
  {
   "cell_type": "code",
   "execution_count": 2,
   "metadata": {},
   "outputs": [
    {
     "name": "stderr",
     "output_type": "stream",
     "text": [
<<<<<<< HEAD
      "\n"
=======
      "Model loaded in 55.01487326622009s\n"
>>>>>>> master
     ]
    },
    {
     "name": "stdout",
     "output_type": "stream",
     "text": [
      "Model loaded in 83.41907453536987s\n"
     ]
    }
   ],
   "source": [
    "start = time.time()\n",
    "model = fasttext.load_model(r\"C:\\Users\\AlnthraevaN\\Documents\\Skripsi\\cc.en.300.bin\")\n",
    "print(f\"Model loaded in {time.time()-start}s\")"
   ]
  },
  {
   "cell_type": "code",
   "execution_count": 16,
   "metadata": {},
   "outputs": [
    {
     "ename": "TypeError",
     "evalue": "object of type '_FastText' has no len()",
     "output_type": "error",
     "traceback": [
      "\u001b[1;31m---------------------------------------------------------------------------\u001b[0m",
      "\u001b[1;31mTypeError\u001b[0m                                 Traceback (most recent call last)",
      "\u001b[1;32m<ipython-input-16-bafc21b277ab>\u001b[0m in \u001b[0;36m<module>\u001b[1;34m\u001b[0m\n\u001b[1;32m----> 1\u001b[1;33m \u001b[0mlen\u001b[0m\u001b[1;33m(\u001b[0m\u001b[0mmodel\u001b[0m\u001b[1;33m)\u001b[0m\u001b[1;33m\u001b[0m\u001b[1;33m\u001b[0m\u001b[0m\n\u001b[0m",
      "\u001b[1;31mTypeError\u001b[0m: object of type '_FastText' has no len()"
     ]
    }
   ],
   "source": [
    "len(model)"
   ]
  },
  {
   "cell_type": "markdown",
   "metadata": {},
   "source": [
    "<h2>Get value</h2>\n",
    "New laptop = first time &lt;2m, then &lt;1s // PC = first time &lt;15s, then &lt;1s"
   ]
  },
  {
   "cell_type": "code",
   "execution_count": 3,
   "metadata": {},
   "outputs": [
    {
     "name": "stdout",
     "output_type": "stream",
     "text": [
<<<<<<< HEAD
      "NN in 12.631765365600586s\n",
=======
      "NN in 12.146052360534668s\n",
>>>>>>> master
      "[(0.8350069522857666, 'cats'), (0.8233457207679749, 'kitty'), (0.8083016276359558, 'kitten')]\n"
     ]
    }
   ],
   "source": [
    "start = time.time()\n",
    "var = model.get_nearest_neighbors(\"cat\", 3)\n",
    "print(f\"NN in {time.time()-start}s\")\n",
    "print(var)"
   ]
  },
  {
   "cell_type": "markdown",
   "metadata": {},
   "source": [
    "<h2>var[data_ke-][0=range, 1=word]</h2>"
   ]
  },
  {
   "cell_type": "code",
<<<<<<< HEAD
   "execution_count": 5,
=======
   "execution_count": 4,
>>>>>>> master
   "metadata": {},
   "outputs": [
    {
     "data": {
      "text/plain": [
       "(0.8350069522857666, 'cats')"
      ]
     },
<<<<<<< HEAD
     "execution_count": 5,
=======
     "execution_count": 4,
>>>>>>> master
     "metadata": {},
     "output_type": "execute_result"
    }
   ],
   "source": [
    "var[0]"
   ]
  },
  {
   "cell_type": "markdown",
   "metadata": {},
   "source": [
    "<h2>NN with range defined</h2>"
   ]
  },
  {
   "cell_type": "code",
<<<<<<< HEAD
   "execution_count": 3,
=======
   "execution_count": 44,
>>>>>>> master
   "metadata": {
    "scrolled": true
   },
   "outputs": [
    {
     "name": "stdout",
     "output_type": "stream",
     "text": [
<<<<<<< HEAD
      "probsbility\n"
=======
      "(0.8463464975357056, 'dogs')\n",
      "(0.7873005270957947, 'puppy')\n",
      "(0.7692237496376038, 'pup')\n",
      "(0.7435278296470642, 'canine')\n",
      "(0.733370840549469, 'pet')\n",
      "(0.7326501607894897, 'doggie')\n",
      "(0.7242385745048523, 'dog--')\n",
      "(0.7231176495552063, 'beagle')\n",
      "(0.7229929566383362, 'dachshund')\n",
      "(0.7078613042831421, 'cat')\n",
      "(0.7078099846839905, 'dog.We')\n",
      "(0.706914484500885, 'dog.So')\n",
      "(0.705765962600708, 'dog.This')\n",
      "(0.7048550844192505, 'pooch')\n",
      "(0.7028048038482666, 'dog.But')\n",
      "(0.7025039792060852, 'non-dog')\n",
      "(0.7014652490615845, 'rottweiler')\n",
      "(0.6967090964317322, 'dog.He')\n",
      "(0.693964421749115, 'dog-')\n",
      "(0.6936827301979065, 'dog.And')\n",
      "(0.6924244165420532, 'dog.')\n",
      "(0.6910536885261536, 'chihuahua')\n",
      "(0.6909169554710388, 'doberman')\n",
      "(0.6872849464416504, 'dog.As')\n",
      "(0.6853628754615784, 'pooches')\n",
      "(0.6823294758796692, 'poodle')\n",
      "(0.682249128818512, 'dog.She')\n",
      "(0.681138813495636, 'dog.What')\n",
      "(0.6799488663673401, 'dog.When')\n",
      "(0.6792084574699402, 'dog.A')\n",
      "(0.6785731911659241, 'dog.It')\n",
      "(0.6775302886962891, 'dog.That')\n",
      "(0.674895167350769, 'Dog')\n",
      "(0.6748825311660767, 'small-dog')\n",
      "(0.6742942333221436, 'dog.I')\n",
      "(0.6727144718170166, 'doggies')\n",
      "(0.6723217368125916, 'schnauzer')\n",
      "(0.6715127229690552, 'labrador')\n",
      "(0.6712470054626465, 'sheltie')\n",
      "(0.6706845164299011, 'dachsund')\n",
      "(0.670311450958252, 'dog.If')\n",
      "(0.6686570048332214, 'labradoodle')\n",
      "(0.6676409244537354, 'dogs.If')\n",
      "(0.6666158437728882, 'Rottweiler')\n",
      "(0.6653838753700256, 'chihuaha')\n",
      "(0.6634559631347656, 'dog.The')\n",
      "(0.6605198383331299, 'rottweiller')\n",
      "(0.6603261232376099, 'bullmastiff')\n",
      "(0.6592223644256592, 'daschund')\n",
      "(0.6587749719619751, 'dogs.He')\n",
      "(0.6551425457000732, 'dogs.It')\n",
      "(0.6547033190727234, 'weimaraner')\n",
      "(0.6539730429649353, 'poochie')\n",
      "(0.6536865830421448, 'cockapoo')\n",
      "(0.6534876823425293, 'dogs.But')\n",
      "(0.6523160934448242, 'kennel')\n",
      "(0.6509638428688049, 'dog.My')\n",
      "(0.6497896909713745, 'schnoodle')\n",
      "(0.6482423543930054, 'dogs.So')\n",
      "(0.6465548276901245, 'mutt')\n",
      "(0.6459473967552185, 'dogs.This')\n",
      "(0.6452814340591431, 'dog.You')\n",
      "(0.6444829106330872, 'Yorkie')\n",
      "(0.6439379453659058, 'canines')\n",
      "(0.642195463180542, 'pug')\n",
      "(0.6414427757263184, 'yorkie')\n",
      "(0.6400036215782166, 'Doberman')\n",
      "(0.6385815739631653, 'dog.In')\n",
      "(0.6355341076850891, 'Daschund')\n",
      "(0.6349397301673889, 'dachshunds')\n",
      "(0.6344326138496399, 'shih-tzu')\n",
      "(0.6328079700469971, 'mastiff')\n",
      "(0.6322602033615112, 'Rotweiller')\n",
      "(0.6320241093635559, 'bulldog')\n",
      "(0.6311543583869934, 'min-pin')\n",
      "(0.6311337947845459, 'malamute')\n",
      "(0.6311072111129761, 'dachsunds')\n",
      "(0.6305983066558838, 'doggy')\n",
      "(0.6298600435256958, 'poochies')\n",
      "(0.6289892196655273, 'terrier')\n",
      "(0.6286965608596802, 'dogs.A')\n",
      "(0.6285573840141296, 'dachsie')\n",
      "(0.628498375415802, 'pitbull')\n",
      "(0.628085196018219, 'dobermann')\n",
      "(0.6276882886886597, 'pomeranian')\n",
      "(0.6272611021995544, 'dog-owner')\n",
      "(0.6240373849868774, 'corgi')\n",
      "(0.6234747171401978, 'puppies')\n",
      "(0.6230998635292053, 'chihuahuas')\n",
      "(0.6230164766311646, 'dogs--')\n",
      "(0.6228706240653992, 'Rottie')\n",
      "(0.6215720772743225, 'spoodle')\n",
      "(0.6215496063232422, 'dogs.I')\n",
      "(0.6210173964500427, 'pekingese')\n",
      "(0.6196659207344055, 'greyhound')\n",
      "(0.6195849776268005, 'pit-bull')\n",
      "(0.6195627450942993, 'hound')\n",
      "(0.6183315515518188, 'dog-person')\n",
      "(0.6179131269454956, 'Westie')\n",
      "(0.6171624660491943, 'dog.There')\n",
      "(0.6161583662033081, 'staffie')\n",
      "(0.6139417290687561, 'dogs.The')\n",
      "(0.6137280464172363, 'huskie')\n",
      "(0.613039493560791, 'dogs.')\n",
      "(0.6125507950782776, 'basenji')\n",
      "(0.6119030117988586, 'leash')\n",
      "(0.6118795275688171, 'maltipoo')\n",
      "(0.6114963293075562, 'kitten')\n",
      "(0.6111713647842407, 'cats')\n",
      "(0.6105248928070068, 'spaniel')\n",
      "(0.6104635000228882, 'dogs-')\n",
      "(0.6098362803459167, 'dogs.And')\n",
      "(0.6087992191314697, 'dogs.When')\n",
      "(0.6070455312728882, 'Pit-bull')\n",
      "(0.6058989763259888, 'housebroke')\n",
      "(0.6058515310287476, 'leash-free')\n",
      "(0.605263352394104, 'chiweenie')\n",
      "(0.6048814654350281, 'dog-handler')\n",
      "(0.6029590368270874, 'Fido')\n",
      "(0.6029564142227173, 'dog-aggressive')\n",
      "(0.6028854250907898, 'Dachshund')\n",
      "(0.6028614044189453, 'puggle')\n",
      "(0.6023315787315369, 'rotweiler')\n",
      "(0.6022704839706421, 'chiwawa')\n",
      "(0.6017248630523682, 'dog-to-dog')\n",
      "(0.6015830039978027, 'shitzu')\n",
      "(0.6014452576637268, 'rottie')\n",
      "(0.600530743598938, 'dog-less')\n",
      "(0.6003198027610779, 'Weimaraner')\n"
>>>>>>> master
     ]
    }
   ],
   "source": [
<<<<<<< HEAD
    "word = input()\n",
    "key = model.get_nearest_neighbors(word, k=200)\n",
    "for i in key:\n",
=======
    "kucing = model.get_nearest_neighbors(\"dog\", k=200)\n",
    "for i in kucing:\n",
>>>>>>> master
    "    if(i[0] > 0.60):\n",
    "        print(i)"
   ]
  },
  {
   "cell_type": "markdown",
   "metadata": {},
   "source": [
    "<h2>NN with input</h2>\n",
    "input is always str"
   ]
  },
  {
   "cell_type": "code",
<<<<<<< HEAD
   "execution_count": 15,
   "metadata": {
    "scrolled": false
   },
   "outputs": [
    {
     "name": "stdout",
     "output_type": "stream",
     "text": [
      "spyder\n",
      "10\n"
     ]
    },
    {
     "data": {
      "text/plain": [
       "[(0.6704043745994568, 'spyders'),\n",
       " (0.6347377300262451, 'tippman'),\n",
       " (0.6327579617500305, 'Spyder'),\n",
       " (0.6179307699203491, 'tippmann'),\n",
       " (0.6169790625572205, 'macdev'),\n",
       " (0.6127982139587402, 'zr1'),\n",
       " (0.5999800562858582, 'prostock'),\n",
       " (0.5865190625190735, 'automag'),\n",
       " (0.5856786966323853, 'eblade'),\n",
       " (0.5820304751396179, 'g6r')]"
      ]
     },
     "execution_count": 15,
     "metadata": {},
     "output_type": "execute_result"
    }
   ],
   "source": [
    "word = input()\n",
    "ks = input()\n",
    "model.get_nearest_neighbors(word, int(ks))"
   ]
  },
  {
   "cell_type": "code",
   "execution_count": null,
   "metadata": {},
   "outputs": [],
   "source": []
  },
  {
   "cell_type": "code",
   "execution_count": 10,
=======
   "execution_count": 7,
>>>>>>> master
   "metadata": {},
   "outputs": [
    {
     "name": "stdout",
     "output_type": "stream",
     "text": [
<<<<<<< HEAD
      "spider\n",
      "5\n"
=======
      " kucing\n",
      " 5\n"
>>>>>>> master
     ]
    },
    {
     "data": {
      "text/plain": [
<<<<<<< HEAD
       "[(0.816251277923584, 'spiders'),\n",
       " (0.729146420955658, 'arachnid'),\n",
       " (0.6790294051170349, 'Spider'),\n",
       " (0.6732271313667297, 'spider.'),\n",
       " (0.6682438850402832, 'spiderweb')]"
=======
       "[(0.7659709453582764, 'Kucing'),\n",
       " (0.6992509961128235, 'busuk'),\n",
       " (0.6941757798194885, 'kutu'),\n",
       " (0.6888805031776428, 'mulut'),\n",
       " (0.6860681772232056, 'anjing')]"
>>>>>>> master
      ]
     },
     "execution_count": 7,
     "metadata": {},
     "output_type": "execute_result"
    }
   ],
   "source": [
    "word = input()\n",
    "key = model.get_nearest_neighbors(word, 100)\n",
    "for i in key:\n",
    "    if(str.lower(i[1])) in word):\n",
    "        print(\"\")"
   ]
  },
  {
   "cell_type": "markdown",
   "metadata": {},
   "source": [
    "<h1>File Searching with FastText</h1>"
   ]
  },
  {
   "cell_type": "code",
   "execution_count": 3,
   "metadata": {
    "scrolled": true
   },
   "outputs": [
    {
     "name": "stdin",
     "output_type": "stream",
     "text": [
      " hero\n"
     ]
    },
    {
     "name": "stdout",
     "output_type": "stream",
     "text": [
      "C:\\Users\\AlnthraevaN\\Downloads\\heroes.jpg\n",
      "C:\\Users\\AlnthraevaN\\Downloads\\heroes.png\n",
      "C:\\Users\\AlnthraevaN\\Downloads\\[HorribleSubs] Boku no Hero Academia - 64 [1080p].mkv\n",
      "C:\\Users\\AlnthraevaN\\Downloads\\[HorribleSubs] Boku no Hero Academia - 65 [1080p].mkv\n",
      "C:\\Users\\AlnthraevaN\\Downloads\\[HorribleSubs] Boku no Hero Academia - 66 [1080p].mkv\n",
      "C:\\Users\\AlnthraevaN\\Downloads\\[HorribleSubs] Boku no Hero Academia - 67 [720p].mkv\n",
      "C:\\Users\\AlnthraevaN\\Downloads\\[HorribleSubs] Boku no Hero Academia - 68 [1080p].mkv\n",
      "C:\\Users\\AlnthraevaN\\Downloads\\asdasdvillainwuwu.exe\n",
      "C:\\Users\\AlnthraevaN\\Downloads\\villain.png\n",
      "C:\\Users\\AlnthraevaN\\Downloads\\villainwakwaw.exe\n",
      "C:\\Users\\AlnthraevaN\\Downloads\\Minecraft 1.13.1 by TeamExtreme\\Windows\\testhero.exe\n"
     ]
    }
   ],
   "source": [
    "start = time.time()\n",
    "word = input()\n",
    "\n",
    "keyword = model.get_nearest_neighbors(word, 100)\n",
    "counter = 0\n",
    "lists = []\n",
    "for root, dirs, files in os.walk(r\"C:\\Users\\AlnthraevaN\\Downloads\"):\n",
    "    # Search the actual keyword\n",
    "    for j in files:\n",
    "        if str.lower(word) in str.lower(os.path.splitext(j)[0]):\n",
    "            print(root + \"\\\\\" + j)\n",
    "            lists.append(root + \"\\\\\" + j)\n",
    "    # Search the NN of keyword\n",
    "    for i in keyword:\n",
    "        if(i[0] > 0.60):\n",
    "            for k in files:\n",
    "                if str.lower(i[1]) in str.lower(os.path.splitext(k)[0]):\n",
    "                    if root + \"\\\\\" + k not in lists:\n",
    "                        print(root + \"\\\\\" + k)\n",
    "                        lists.append(root + \"\\\\\" + k)\n",
    "# print(len(os.listdir(r\"C:\\Users\\AlnthraevaN\\Downloads\")))\n",
    "# print(str(len(i)) + f\" files search in {time.time()-start}s\")\n",
    "                        \n",
    "# if there's no item found\n",
    "if not lists:\n",
    "    print(\"No file found\")"
   ]
  },
  {
   "cell_type": "markdown",
   "metadata": {},
   "source": [
    "<h2>File Searching with FastText + TKinter</h2>"
   ]
  },
  {
   "cell_type": "code",
   "execution_count": 4,
   "metadata": {
    "scrolled": true
   },
   "outputs": [
    {
     "name": "stdout",
     "output_type": "stream",
     "text": [
      "[(0.3232245445251465, 'accessbility'), (0.3181978464126587, 'probs'), (0.3160988390445709, 'problem.ReplyDeleteAdd'), (0.311389297246933, 'записиТелепрограммаRaadioVikerraadioOtseJärelkuulamineSaatekavaPodcastidRaadioteaterRaadio'), (0.30584168434143066, 'atmospheresHSK-EXHSK-EXHSK-MS-EXHSK-MS-EXHSK-MS-EX-EHSK-MS-EX-EAdapter'), (0.30518239736557007, 'compatibility.Importance'), (0.30208468437194824, 'QQJCgAEACwJAAAAEAASAAAIZwABEBhIsKBBAQAEGiSQUCEBARAdDgQwoKJCiBEJUqw44CJGhxstDsSYkSFHhx8RahQ5MWFEhQ0TjiQZk6NIhB8b2uzIMKfOnQBoxgzJ82NLokVlakQqUOJSoAsnQo1q0qZTg0MHBgQAIfkECQoABAAsCQAAABAAEgAACGkAARAYSJAggIMEBSAsSADAgIcCCQiYGHGgw4cDIk6kaBBjxoEbFXaEmDBkxYsVNwJQiPCgS4sHKbr0'), (0.30001094937324524, '2OtseJärelkuulamineSaatedPodcastidKlassikaraadioOtseJärelkuulamineSaatekavaPodcastidRaadio'), (0.2997754216194153, '2OtseEsilehtJärelkuulamineSaatedPodcastidKlassikaraadioOtseEsilehtJärelkuulamineSaatekavaPodcastidRaadio'), (0.29625144600868225, '0f4b3704e5188b2e2c852b00a697176b'), (0.2954666018486023, 'записиТелепрограммаVikerraadioOtseEsilehtJärelkuulamineSaatekavaPodcastidRaadioteaterRaadio'), (0.2954409718513489, 'probst'), (0.29428258538246155, 'ToysBrasherBreoBridgedaleBroginiBruntonBuffBulldogCadacCaldeneCalibreCalorCamelbakCampCampingazCarr'), (0.2891464829444885, '656e312e2ff67dd496885d378acdcb41'), (0.2886844575405121, 'GrandeCuiabaCuritibaFlorianopolisFortalezaGoianiaIguassu'), (0.28840887546539307, 'charges.90TraumaTrauma'), (0.2864624857902527, 'edicion'), (0.2861977219581604, 'diffculties'), (0.28574585914611816, 'DEky4M0BSpUOTPnSpkuL5I0GTSnRI4jMepcaFAoxIoFnX5kmJQk1aYvr2odGBAAIfkECQoABAAsCQAAABAAEgAACGcAARAYSLCgQQEABBokkFAhAQEQHQ4EMKCiQogRCVKsOOAiRocbLQ7EmJEhR4cfEWoUOTFhRIUNE44kGZOjSIQfG9rsyDCnzp0AaMYMyfNjS6JFZWpEKlDiUqALJ0KNatKmU4NDBwYEACH5BAkKAAQALAkAAAAQABIAAAhpAAEQGEiQIICDBAUgLEgAwICHAgkImBhxoMOHAyJOpGgQY8aBGxV2hJgwZMWLFTcCUIjwoEuLBym69PgxJMuDNAUqVDkz50qZLi'), (0.28517386317253113, 'DEky4M0BSpUOTPnSpkuL5I0GTSnRI4jMepcaFAoxIoFnX5kmJQk1aYvr2odGBAAIfkECQoABAAsCQAAABAAEgAACGcAARAYSLCgQQEABBokkFAhAQEQHQ4EMKCiQogRCVKsOOAiRocbLQ7EmJEhR4cfEWoUOTFhRIUNE44kGZOjSIQfG9rsyDCnzp0AaMYMyfNjS6JFZWpEKlDiUqALJ0KNatKmU4NDBwYEACH5BAUKAAQALAkAAAAQABIAAAhpAAEQGEiQIICDBAUgLEgAwICHAgkImBhxoMOHAyJOpGgQY8aBGxV2hJgwZMWLFTcCUIjwoEuLBym69PgxJMuDNAUqVDkz50qZLi'), (0.28360283374786377, 'problems'), (0.2828814685344696, 'CrônicasEsdrasNeemiasEsterJóSalmosProvérbiosEclesiastesCânticosIsaíasJeremiasLamentaçõesEzequielDanielOséiasJoelAmósObadiasJonasMiquéiasNaumHabacuqueSofoniasAgeuZacariasMalaquiasNovo'), (0.2812890112400055, 'simularity'), (0.28110435605049133, 'issuess'), (0.280115008354187, 'ERICSSONSpreadtrumSymphonyTCLTHLUlefoneVIVOVkworldWaltonX-BOXIAOMIXOLOXTOUCHZOPOZTEGapps'), (0.2793000042438507, 'QQFZAAEACwAAAAAGQASAAAIjgAJCBQIoGDBgQgTKiwooGHDgwshDgTgsOLDhAAGaAQwUYBBhx85EtS4cWLGjR5JSjxZkgDFkwwLohTJUqTLlANiwvQ4seVNjwwfBoVokKjFo0Jlksz506NFiklZtoQKFSjIoktLVv1YsahSn1WP0vzq02VYoAjJMsVYVKHZrDbdupW6Vq5cunHtRjQoMCAAIfkECRQABAAsCQADAAQABAAACAsABQgkILCgwYEBAQAh'), (0.27878838777542114, 'penchance'), (0.27796536684036255, 'DIRECTORYabcdefghijklmnopqrstuvwxyzBack'), (0.2778187096118927, 'NoidaVaranasiBareillyMathuraAligarhMoradabadSaharanpurBijnorJaunpurGorakhpurMuzaffarnagarSultanpurDehradunHaridwarNainitalRoorkeeGarhwalBardhamanMurshidabadHooghlyMedinipurNorth'), (0.2777460813522339, 'issuesI'), (0.2777354419231415, 'issues'), (0.27715566754341125, 'raadiouudisedVälisuudisedMeelelahutusrus.err.eeMajandusTeadusnews.err.eeArvamusIlmViipekeelsedTvETVOtseJärelvaatamineSaatekavaSaatedRetseptidETV2OtseSaatedLastejaamJärelvaatamineSaatekavaETV'), (0.2768149673938751, 'PradeshMaharashtraManipurMeghalayaMizoramNagalandOdishaPolitical'), (0.27653560042381287, 'areaMezzanineAdvantagesMountain'), (0.2762520909309387, '7570fce472d881f8463c1e25b588fb3c'), (0.27493950724601746, 'marketshare.hitslink.com'), (0.2741764783859253, 'LIFEPERFORMANCEVIDEOSSUBSCRIBEJoinNewsletterSubscribeGEARRESORT'), (0.2714192867279053, 'inportance'), (0.27100473642349243, 'difference.ReplyDeleteAdd'), (0.27061596512794495, 'isssues'), (0.27014586329460144, 'CITIESAgartalaAgraAhmedabadAllahabadAmritsarAurangabadBareillyBhopalBhubaneswarChandigarhCoimbatoreCuttackDehradunErodeFaridabadGoaGurgaonGuwahatiHubliImphalIndoreJaipurJammuJamshedpurJindKanpurKochiKolhapurKozhikodeLucknowLudhianaMaduraiMangaloreMeerutMysoreNagpurNashikNavi'), (0.26924848556518555, 'cb040e959b356bfa348386b525b3d711'), (0.26920273900032043, 'happenchance'), (0.2691819369792938, 'Maghaberry'), (0.26917150616645813, 'GodavariNelloreKrishnaVizianagaramChittoorKadapaSrikakulamKurnoolAnanthapurVijayawadaTirupatiKakinadaRajahmundhryItanagarGuwahatiPatnaChandigarhRaipurDurgBilaspurBhilaiNagar'), (0.26843327283859253, 'condsider'), (0.2680915892124176, 'IndiaAhmedabadAmritsarBangaloreBhubaneswarChennaiCochinCoimbatoreDelhiGawahatiGayaGoaHyderabadIndoreJaipurJodhpurKhajurahoKolkataKozhikodeLucknowMaduraiMangaloreMumbaiNagpurPort'), (0.26701539754867554, 'lejlighedEjendomstypeFeriehusMed'), (0.26684826612472534, 'RegionTokyoKyotoOsakaHokkaidoTohokuKantoChubuKansaiChugokuShikokuKyushuOkinawa'), (0.2664540112018585, 'mis-conceptions'), (0.26606500148773193, 'birthRedundancyRelationship'), (0.2652682960033417, 'TwitterFacebookTumblrLinkedInPrintRedditPinterestEmailMoreGoogleLike'), (0.2650087773799896, 'questionsWeekMonth'), (0.26498517394065857, 'porblems'), (0.2648267149925232, 'CityDaeguKwangjuSeoulUlsanYeosuVayama.com'), (0.26453107595443726, 'problem'), (0.2644692361354828, 'thoughts.ReplyDeleteAdd'), (0.26392823457717896, 'chance.ReplyDeleteAdd'), (0.2633611857891083, 'involvementRheumatoid'), (0.26265209913253784, 'difficulties.I'), (0.2619958519935608, 'ČeskýDanskDeutschΕλληνικάEnglishEspañolFrançaisעבריתMagyarItaliano日本語한국어NederlandsPolskiPortuguêsРусскийSvenska中文'), (0.26171359419822693, 'feedback.captcha.word.answer'), (0.26152747869491577, 'Inc.HelpAboutAppsDevelopersThemesJobsLegalTermsCopyrightPrivacyEnglishDeutschFrançaisItaliano日本語TürkçeEspañolPусскийPolskiPortuguês'), (0.2614135444164276, 'AfricaAngolaBotswanaLesothoMadagascarMalawiMozambiqueNamibiaSouth'), (0.261344313621521, 'issues.Just'), (0.2603828012943268, 'roomsCAT5ReceptionNetworkBroadbandLounge'), (0.2590429186820984, 'gAa5sDA1AEc5wId6AUi6wQi6gUj6wcn7Akq7A4z7hE67hI77hQ'), (0.2590096592903137, 'attention.ReplyDeleteAdd'), (0.2585771977901459, 'money.BlogSitemapContact'), (0.2584485411643982, 'charges.90HaloHalo'), (0.2583838403224945, 'diffuculty'), (0.25835421681404114, 'difficulties'), (0.2581997811794281, 'unfortuneately'), (0.25812751054763794, 'accessability'), (0.2578204870223999, 'expeirience'), (0.25766074657440186, 'probs.'), (0.25659117102622986, 'NagarMehsanaVadodaraAnandBhavnagarKachchhSabarkanthaJunagadhJamnagarGurgaonRohtakFaridabadSonepatHisarAmbalaYamuna'), (0.2564394474029541, 'timen'), (0.25606900453567505, 'cfccf98e15f1f252974e5416548a9755'), (0.2560509741306305, 'UnidosFrançaisFranceSuisseItalianoItaliaSvizzeraNederlandNederlandsPortuguêsPortugalBrasilРусскийРоссияProfessional'), (0.2555811107158661, 'QQJCgAEACwJAAAAEAASAAAIaQABEBhIkCCAgwQFICxIAMCAhwIJCJgYcaDDhwMiTqRoEGPGgRsVdoSYMGTFixU3AlCI8KBLiwcpuvT4MSTLgzQFKlQ5M'), (0.2555495798587799, 'TwitterFacebookGoogleEmailPrintMoreLinkedInRedditTumblrPinterestPocket'), (0.2555173635482788, 'enchancements'), (0.25536230206489563, 'problom'), (0.25533297657966614, 'ChinaBeijingChangchunChangshaChengduChongqingDalianDayongFuzhouGuangzhouGuilinGuiyangHaikouHangzhouHarbinHefeiHohhotJinanJinghongJinjiangKunmingLanzhouLhasaLijiang'), (0.25532105565071106, 'dificulties'), (0.2552201449871063, 'SpectrumAssuranceAtonementAtonement'), (0.2548799514770508, 'issues.Not'), (0.2547718286514282, 'issue.ReplyDeleteAdd'), (0.25430595874786377, 'problem.Many'), (0.2537387013435364, 'accessiblity'), (0.2536807358264923, 'visbility'), (0.25321775674819946, 'PDFDisability'), (0.2531558871269226, 'ReservedEnglishEspañolPortuguêsTerms'), (0.25307515263557434, 'accessibilty'), (0.25306522846221924, 'thansk'), (0.2529756426811218, 'AmsterdamCologneBrusselsAntwerpenDusseldorfMunsterAmstelveenZandvoortEindhovenLiegeSchaerbeekEtterbeekMapFiltersTermsPrivacySite'), (0.2528766691684723, 'success.ReplyDeleteAdd'), (0.2525293529033661, 'microsoft.public.windowsxp.basics'), (0.2522731423377991, 'ediciones')]\n"
     ]
    },
    {
     "name": "stdout",
     "output_type": "stream",
     "text": [
      "No file found\n",
      "['probsbility']\n",
      "[(0.842276394367218, 'probabilities'), (0.824097216129303, 'probabilty'), (0.8060229420661926, 'probablity'), (0.7770494818687439, 'probablility'), (0.7708003520965576, 'likelihood'), (0.7418056726455688, 'probabilites'), (0.7100209593772888, 'Probability'), (0.7071857452392578, 'likelihoods'), (0.6870308518409729, 'probability.'), (0.6711950302124023, 'propability'), (0.6606236696243286, 'probabilities.'), (0.6357828974723816, 'theprobability'), (0.6333473324775696, 'probablities'), (0.6332148909568787, 'liklihood'), (0.6204427480697632, 'probabilistic'), (0.6085320711135864, 'Probabilities'), (0.6059626936912537, 'probabilistically'), (0.6059032678604126, 'PROBABILITY'), (0.5922254323959351, 'equiprobable'), (0.592212975025177, 'likeliness'), (0.5916997194290161, 'likelyhood'), (0.5908840894699097, 'log-odds'), (0.5870580077171326, 'improbability'), (0.5648944973945618, 'probablistic'), (0.5576944351196289, 'odds'), (0.5505020022392273, 'low-probability'), (0.5471127033233643, 'unlikelihood'), (0.5410329103469849, 'high-probability'), (0.5380755662918091, 'probabalistic'), (0.5337317585945129, 'likehood'), (0.5312516689300537, 'null-hypothesis'), (0.5290266871452332, 'prediction'), (0.5264991521835327, 'likely-hood'), (0.5213255882263184, 'randomness'), (0.520916223526001, 'non-zero'), (0.519301176071167, 'normally-distributed'), (0.5178244113922119, 'probability-based'), (0.5162595510482788, 'chances'), (0.5158331990242004, 'measure-theoretic'), (0.5149710178375244, 'certainty'), (0.51347416639328, '1-in-100'), (0.5068257451057434, 'quantiles'), (0.5042271614074707, 'log-likelihoods'), (0.5013033747673035, 'log-likelihood'), (0.5004739761352539, 'lower-bound'), (0.4989446699619293, 'probability-weighted'), (0.4986107647418976, 'nonzero'), (0.4978802800178528, 'frequentism'), (0.4978417456150055, 'stochastic'), (0.4977397620677948, 'coin-tossing'), (0.49768197536468506, 'odds-ratio'), (0.49760979413986206, 'frequentist'), (0.4964972734451294, 'predicting'), (0.4962688088417053, 'a-priori'), (0.4955889582633972, 'nonincreasing'), (0.4953882694244385, 'p-value'), (0.49503108859062195, 'near-certainty'), (0.4940604567527771, 'unlikeliness'), (0.4929019510746002, '1-p'), (0.49282997846603394, 'probabilists'), (0.49158021807670593, 'a-posteriori'), (0.49104905128479004, 'non-occurrence'), (0.4894195795059204, 'unimodality'), (0.4893433153629303, '3-sigma'), (0.48811402916908264, 'likelihood-based'), (0.4875061511993408, 'heavy-tailed'), (0.4868423044681549, 'min-entropy'), (0.4864240884780884, 'thelikelihood'), (0.48557010293006897, 'non-probabilistic'), (0.48520082235336304, 'p.d.f.'), (0.4842892289161682, 'i.i.d.'), (0.48367688059806824, 'logits'), (0.4836585223674774, 'non-monotonicity'), (0.48283782601356506, 'predictiveness'), (0.4825020134449005, 'non-random'), (0.4824874699115753, 'over-dispersion'), (0.48158180713653564, 'Bayesian'), (0.48152175545692444, 'unigram'), (0.4811720550060272, 'Suppose'), (0.48106950521469116, 'multinomial'), (0.48103925585746765, '1-sigma'), (0.48090797662734985, 'upper-bound'), (0.4801062047481537, 'priori'), (0.4800696074962616, 'predict'), (0.47941064834594727, '1-in-3'), (0.47862157225608826, '5-sigma'), (0.4783382713794708, 'average-case'), (0.4782343804836273, 'subadditivity'), (0.47799891233444214, 'non-normality'), (0.4776742160320282, 'change-point'), (0.4773726463317871, 'nonnegligible'), (0.47707027196884155, 'over-prediction'), (0.47665151953697205, 'first-passage'), (0.476485937833786, 'risk-neutral'), (0.4762013256549835, 'standard-deviation'), (0.4760143756866455, 'Likelihood'), (0.47566092014312744, 'i.i.d'), (0.47507575154304504, 'probabil'), (0.47454074025154114, 'entropy'), (0.4743924140930176, 'base-rate')]\n",
      "Testing probabilities\n",
      "probabilities added to the list\n",
      "Testing probabilty\n",
      "probabilty added to the list\n",
      "Testing probablity\n",
      "probablity added to the list\n",
      "Testing probablility\n",
      "probablility added to the list\n",
      "Testing likelihood\n",
      "likelihood added to the list\n",
      "Testing probabilites\n",
      "probabilites added to the list\n",
      "Testing probability\n",
      "Testing likelihoods\n",
      "No file found\n",
      "['probability', 'probabilities', 'probabilty', 'probablity', 'probablility', 'likelihood', 'probabilites']\n"
     ]
    }
   ],
   "source": [
    "root = Tk()\n",
    "path = StringVar()\n",
    "\n",
    "def browse_button():\n",
    "    global directory\n",
    "    directory = filedialog.askdirectory()\n",
    "    path.set(directory)\n",
    "    #print(\"1 \" + directory)\n",
    "\n",
    "def retrieve_input():\n",
    "    input = e1.get(\"1.0\",\"end-1c\")\n",
    "    return input\n",
    "\n",
    "# r=root, d=directories, f = files\n",
    "def search(path):\n",
    "    word = str(retrieve_input()) #Get Input from TKinter\n",
    "    kw = [] #Array of keyword(s) to search\n",
    "    kw.append(str.lower(word))\n",
    "    keyword = model.get_nearest_neighbors(word, 100)\n",
    "    print(keyword)\n",
    "    #Spell checking if the first NN has score lower than 70 (Probability a typo on input)\n",
    "    if(keyword[0][0] < 0.70):\n",
    "        \n",
    "    lists = [] #Lists of file found with keyword\n",
    "    for i in keyword:\n",
    "        if(i[0] => 0.70):\n",
    "            FLAG = TRUE\n",
    "            print(\"Testing \" + str.lower(i[1]))\n",
    "            #Checking if NN is in kw array\n",
    "            for l in kw:\n",
    "                if(l in str.lower(i[1])):\n",
    "                    FLAG = FALSE\n",
    "            if(FLAG and str.lower(i[1]) not in kw):\n",
    "                print(str.lower(i[1]) + \" added to the list\")\n",
    "                kw.append(str.lower(i[1]))\n",
    "    for root, dirs, files in os.walk(path):\n",
    "        # Search do the searching\n",
    "        for j in files:\n",
    "            for k in kw:\n",
    "                if str.lower(k) in str.lower(os.path.splitext(j)[0]):\n",
    "                    lists.append(root + \"/\" + j)\n",
    "# Search the NN of keyword\n",
    "#         for i in keyword:\n",
    "#             if(i[0] > 0.60):\n",
    "#                 print(\"Testing \" + str.lower(i[1]))\n",
    "#                 for l in kw:\n",
    "#                     if(l not in str.lower(i[1]) and str.lower(i[1]) not in kw):\n",
    "#                         print(kw)\n",
    "#                         kw.append(str.lower(i[1]))\n",
    "#                         print(\"Searching \" + str.lower(i[1]))\n",
    "#                         for k in files:\n",
    "#                             if str.lower(i[1]) in str.lower(os.path.splitext(k)[0]):\n",
    "#                                 print(str(i[1]))\n",
    "#                                 if root + \"/\" + k not in lists:\n",
    "#                                     print(\"got \" + str(i[1]))\n",
    "#                                     lists.append(root + \"/\" + k)\n",
    "\n",
    "    if lists:\n",
    "        print(lists)\n",
    "    if not lists:\n",
    "        print(\"No file found\")\n",
    "    \n",
    "    print(kw)\n",
    "appname = Label(root, text=\"QWERY Search Engine\")\n",
    "appname.grid(row=0, columnspan=4)\n",
    "lbl1 = Label(root, text=\"Keyword: \")\n",
    "lbl1.grid(row=2, column=0)\n",
    "e1 = Text(master=root, height=1, width=30)\n",
    "#e1.insert(0, 'keyword')\n",
    "e1.grid(row=2, column=2)\n",
    "lbl2 = Label(master=root,textvariable=path)\n",
    "lbl2.grid(row=3, column=1)\n",
    "button2 = Button(text=\"Browse\", command=browse_button)\n",
    "button2.grid(row=3, column=2)\n",
    "button1 = Button(text=\"Search\", command= lambda: search(directory))\n",
    "button1.grid(row=4, columnspan=4)\n",
    "\n",
    "mainloop()"
   ]
  },
  {
   "cell_type": "code",
   "execution_count": 20,
   "metadata": {},
   "outputs": [
    {
     "name": "stdout",
     "output_type": "stream",
     "text": [
      "Ada\n"
     ]
    }
   ],
   "source": [
    "arr = ['cat', 'dog']\n",
    "for i in arr:\n",
    "    if (i in 'house-cat'):\n",
    "        print(\"Ada\")"
   ]
  },
  {
<<<<<<< HEAD
=======
   "cell_type": "markdown",
   "metadata": {},
   "source": [
    "<h1>File Searching with FastText</h1>"
   ]
  },
  {
   "cell_type": "code",
   "execution_count": 41,
   "metadata": {},
   "outputs": [
    {
     "name": "stdin",
     "output_type": "stream",
     "text": [
      " hero\n"
     ]
    },
    {
     "name": "stdout",
     "output_type": "stream",
     "text": [
      "C:\\Users\\AlnthraevaN\\Downloads\\heroes.jpg\n",
      "C:\\Users\\AlnthraevaN\\Downloads\\heroes.png\n",
      "C:\\Users\\AlnthraevaN\\Downloads\\[HorribleSubs] Boku no Hero Academia - 64 [1080p].mkv\n",
      "C:\\Users\\AlnthraevaN\\Downloads\\[HorribleSubs] Boku no Hero Academia - 65 [1080p].mkv\n",
      "C:\\Users\\AlnthraevaN\\Downloads\\[HorribleSubs] Boku no Hero Academia - 66 [1080p].mkv\n",
      "C:\\Users\\AlnthraevaN\\Downloads\\[HorribleSubs] Boku no Hero Academia - 67 [720p].mkv\n",
      "C:\\Users\\AlnthraevaN\\Downloads\\[HorribleSubs] Boku no Hero Academia - 68 [1080p].mkv\n",
      "C:\\Users\\AlnthraevaN\\Downloads\\asdasdvillainwuwu.exe\n",
      "C:\\Users\\AlnthraevaN\\Downloads\\villain.png\n",
      "C:\\Users\\AlnthraevaN\\Downloads\\villainwakwaw.exe\n",
      "C:\\Users\\AlnthraevaN\\Downloads\\Minecraft 1.13.1 by TeamExtreme\\Windows\\testhero.exe\n"
     ]
    }
   ],
   "source": [
    "start = time.time()\n",
    "word = input()\n",
    "\n",
    "keyword = model.get_nearest_neighbors(word, 100)\n",
    "counter = 0\n",
    "lists = []\n",
    "for root, dirs, files in os.walk(r\"C:\\Users\\AlnthraevaN\\Downloads\"):\n",
    "    for j in files:\n",
    "        if str.lower(word) in str.lower(os.path.splitext(j)[0]):\n",
    "            print(root + \"\\\\\" + j)\n",
    "            lists.append(root + \"\\\\\" + j)\n",
    "    for i in keyword:\n",
    "        if(i[0] > 0.60):\n",
    "            for k in files:\n",
    "                if str.lower(i[1]) in str.lower(os.path.splitext(k)[0]):\n",
    "                    if root + \"\\\\\" + k not in lists:\n",
    "                        print(root + \"\\\\\" + k)\n",
    "                        lists.append(root + \"\\\\\" + k)\n",
    "# print(len(os.listdir(r\"C:\\Users\\AlnthraevaN\\Downloads\")))\n",
    "# print(str(len(i)) + f\" files search in {time.time()-start}s\")\n",
    "                        \n",
    "# if there's no item found\n",
    "if not lists:\n",
    "    print(\"No file found\")"
   ]
  },
  {
>>>>>>> master
   "cell_type": "code",
   "execution_count": null,
   "metadata": {},
   "outputs": [],
   "source": []
  }
 ],
 "metadata": {
  "kernelspec": {
   "display_name": "Python 3",
   "language": "python",
   "name": "python3"
  },
  "language_info": {
   "codemirror_mode": {
    "name": "ipython",
    "version": 3
   },
   "file_extension": ".py",
   "mimetype": "text/x-python",
   "name": "python",
   "nbconvert_exporter": "python",
   "pygments_lexer": "ipython3",
   "version": "3.7.5"
  }
 },
 "nbformat": 4,
 "nbformat_minor": 4
}
